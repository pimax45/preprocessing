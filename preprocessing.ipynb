{
 "cells": [
  {
   "cell_type": "markdown",
   "id": "d670d861",
   "metadata": {
    "deletable": false,
    "editable": false,
    "id": "c81daeeb"
   },
   "source": [
    "# Исследование надежности заемщиков\n"
   ]
  },
  {
   "cell_type": "markdown",
   "id": "0fad2488",
   "metadata": {
    "deletable": false,
    "editable": false,
    "id": "e7a14c31"
   },
   "source": [
    "**Задание 1. Импортируйте библиотеку pandas. Считайте данные из csv-файла в датафрейм и сохраните в переменную `data`. Путь к файлу:**\n",
    "\n",
    "`/datasets/data.csv`"
   ]
  },
  {
   "cell_type": "code",
   "execution_count": 1,
   "id": "b75b1818",
   "metadata": {
    "deletable": false,
    "id": "7bcf75c9"
   },
   "outputs": [
    {
     "name": "stdout",
     "output_type": "stream",
     "text": [
      "       children  days_employed  dob_years education  education_id  \\\n",
      "0             1   -8437.673028         42    высшее             0   \n",
      "1             1   -4024.803754         36   среднее             1   \n",
      "2             0   -5623.422610         33   Среднее             1   \n",
      "3             3   -4124.747207         32   среднее             1   \n",
      "4             0  340266.072047         53   среднее             1   \n",
      "...         ...            ...        ...       ...           ...   \n",
      "21520         1   -4529.316663         43   среднее             1   \n",
      "21521         0  343937.404131         67   среднее             1   \n",
      "21522         1   -2113.346888         38   среднее             1   \n",
      "21523         3   -3112.481705         38   среднее             1   \n",
      "21524         2   -1984.507589         40   среднее             1   \n",
      "\n",
      "          family_status  family_status_id gender income_type  debt  \\\n",
      "0       женат / замужем                 0      F   сотрудник     0   \n",
      "1       женат / замужем                 0      F   сотрудник     0   \n",
      "2       женат / замужем                 0      M   сотрудник     0   \n",
      "3       женат / замужем                 0      M   сотрудник     0   \n",
      "4      гражданский брак                 1      F   пенсионер     0   \n",
      "...                 ...               ...    ...         ...   ...   \n",
      "21520  гражданский брак                 1      F   компаньон     0   \n",
      "21521   женат / замужем                 0      F   пенсионер     0   \n",
      "21522  гражданский брак                 1      M   сотрудник     1   \n",
      "21523   женат / замужем                 0      M   сотрудник     1   \n",
      "21524   женат / замужем                 0      F   сотрудник     0   \n",
      "\n",
      "        total_income                       purpose  \n",
      "0      253875.639453                 покупка жилья  \n",
      "1      112080.014102       приобретение автомобиля  \n",
      "2      145885.952297                 покупка жилья  \n",
      "3      267628.550329    дополнительное образование  \n",
      "4      158616.077870               сыграть свадьбу  \n",
      "...              ...                           ...  \n",
      "21520  224791.862382             операции с жильем  \n",
      "21521  155999.806512          сделка с автомобилем  \n",
      "21522   89672.561153                  недвижимость  \n",
      "21523  244093.050500  на покупку своего автомобиля  \n",
      "21524   82047.418899         на покупку автомобиля  \n",
      "\n",
      "[21525 rows x 12 columns]\n"
     ]
    }
   ],
   "source": [
    "import pandas as pd\n",
    "\n",
    "try:\n",
    "    data = pd.read_csv('/datasets/data.csv')\n",
    "except:\n",
    "    data = pd.read_csv('https://code.s3.yandex.net/datasets/data.csv')\n",
    "    \n",
    "print(data)"
   ]
  },
  {
   "cell_type": "markdown",
   "id": "70730f2e",
   "metadata": {
    "deletable": false,
    "editable": false,
    "id": "b8038fe3"
   },
   "source": [
    "**Задание 2. Выведите первые 20 строчек датафрейма `data` на экран.**"
   ]
  },
  {
   "cell_type": "code",
   "execution_count": 2,
   "id": "bf9a2f2f",
   "metadata": {
    "deletable": false,
    "id": "2a7cab99",
    "outputId": "1a8f3ef2-d323-4ec2-ddf7-89670b5944c4"
   },
   "outputs": [
    {
     "data": {
      "text/html": [
       "<div>\n",
       "<style scoped>\n",
       "    .dataframe tbody tr th:only-of-type {\n",
       "        vertical-align: middle;\n",
       "    }\n",
       "\n",
       "    .dataframe tbody tr th {\n",
       "        vertical-align: top;\n",
       "    }\n",
       "\n",
       "    .dataframe thead th {\n",
       "        text-align: right;\n",
       "    }\n",
       "</style>\n",
       "<table border=\"1\" class=\"dataframe\">\n",
       "  <thead>\n",
       "    <tr style=\"text-align: right;\">\n",
       "      <th></th>\n",
       "      <th>children</th>\n",
       "      <th>days_employed</th>\n",
       "      <th>dob_years</th>\n",
       "      <th>education</th>\n",
       "      <th>education_id</th>\n",
       "      <th>family_status</th>\n",
       "      <th>family_status_id</th>\n",
       "      <th>gender</th>\n",
       "      <th>income_type</th>\n",
       "      <th>debt</th>\n",
       "      <th>total_income</th>\n",
       "      <th>purpose</th>\n",
       "    </tr>\n",
       "  </thead>\n",
       "  <tbody>\n",
       "    <tr>\n",
       "      <th>0</th>\n",
       "      <td>1</td>\n",
       "      <td>-8437.673028</td>\n",
       "      <td>42</td>\n",
       "      <td>высшее</td>\n",
       "      <td>0</td>\n",
       "      <td>женат / замужем</td>\n",
       "      <td>0</td>\n",
       "      <td>F</td>\n",
       "      <td>сотрудник</td>\n",
       "      <td>0</td>\n",
       "      <td>253875.639453</td>\n",
       "      <td>покупка жилья</td>\n",
       "    </tr>\n",
       "    <tr>\n",
       "      <th>1</th>\n",
       "      <td>1</td>\n",
       "      <td>-4024.803754</td>\n",
       "      <td>36</td>\n",
       "      <td>среднее</td>\n",
       "      <td>1</td>\n",
       "      <td>женат / замужем</td>\n",
       "      <td>0</td>\n",
       "      <td>F</td>\n",
       "      <td>сотрудник</td>\n",
       "      <td>0</td>\n",
       "      <td>112080.014102</td>\n",
       "      <td>приобретение автомобиля</td>\n",
       "    </tr>\n",
       "    <tr>\n",
       "      <th>2</th>\n",
       "      <td>0</td>\n",
       "      <td>-5623.422610</td>\n",
       "      <td>33</td>\n",
       "      <td>Среднее</td>\n",
       "      <td>1</td>\n",
       "      <td>женат / замужем</td>\n",
       "      <td>0</td>\n",
       "      <td>M</td>\n",
       "      <td>сотрудник</td>\n",
       "      <td>0</td>\n",
       "      <td>145885.952297</td>\n",
       "      <td>покупка жилья</td>\n",
       "    </tr>\n",
       "    <tr>\n",
       "      <th>3</th>\n",
       "      <td>3</td>\n",
       "      <td>-4124.747207</td>\n",
       "      <td>32</td>\n",
       "      <td>среднее</td>\n",
       "      <td>1</td>\n",
       "      <td>женат / замужем</td>\n",
       "      <td>0</td>\n",
       "      <td>M</td>\n",
       "      <td>сотрудник</td>\n",
       "      <td>0</td>\n",
       "      <td>267628.550329</td>\n",
       "      <td>дополнительное образование</td>\n",
       "    </tr>\n",
       "    <tr>\n",
       "      <th>4</th>\n",
       "      <td>0</td>\n",
       "      <td>340266.072047</td>\n",
       "      <td>53</td>\n",
       "      <td>среднее</td>\n",
       "      <td>1</td>\n",
       "      <td>гражданский брак</td>\n",
       "      <td>1</td>\n",
       "      <td>F</td>\n",
       "      <td>пенсионер</td>\n",
       "      <td>0</td>\n",
       "      <td>158616.077870</td>\n",
       "      <td>сыграть свадьбу</td>\n",
       "    </tr>\n",
       "    <tr>\n",
       "      <th>5</th>\n",
       "      <td>0</td>\n",
       "      <td>-926.185831</td>\n",
       "      <td>27</td>\n",
       "      <td>высшее</td>\n",
       "      <td>0</td>\n",
       "      <td>гражданский брак</td>\n",
       "      <td>1</td>\n",
       "      <td>M</td>\n",
       "      <td>компаньон</td>\n",
       "      <td>0</td>\n",
       "      <td>255763.565419</td>\n",
       "      <td>покупка жилья</td>\n",
       "    </tr>\n",
       "    <tr>\n",
       "      <th>6</th>\n",
       "      <td>0</td>\n",
       "      <td>-2879.202052</td>\n",
       "      <td>43</td>\n",
       "      <td>высшее</td>\n",
       "      <td>0</td>\n",
       "      <td>женат / замужем</td>\n",
       "      <td>0</td>\n",
       "      <td>F</td>\n",
       "      <td>компаньон</td>\n",
       "      <td>0</td>\n",
       "      <td>240525.971920</td>\n",
       "      <td>операции с жильем</td>\n",
       "    </tr>\n",
       "    <tr>\n",
       "      <th>7</th>\n",
       "      <td>0</td>\n",
       "      <td>-152.779569</td>\n",
       "      <td>50</td>\n",
       "      <td>СРЕДНЕЕ</td>\n",
       "      <td>1</td>\n",
       "      <td>женат / замужем</td>\n",
       "      <td>0</td>\n",
       "      <td>M</td>\n",
       "      <td>сотрудник</td>\n",
       "      <td>0</td>\n",
       "      <td>135823.934197</td>\n",
       "      <td>образование</td>\n",
       "    </tr>\n",
       "    <tr>\n",
       "      <th>8</th>\n",
       "      <td>2</td>\n",
       "      <td>-6929.865299</td>\n",
       "      <td>35</td>\n",
       "      <td>ВЫСШЕЕ</td>\n",
       "      <td>0</td>\n",
       "      <td>гражданский брак</td>\n",
       "      <td>1</td>\n",
       "      <td>F</td>\n",
       "      <td>сотрудник</td>\n",
       "      <td>0</td>\n",
       "      <td>95856.832424</td>\n",
       "      <td>на проведение свадьбы</td>\n",
       "    </tr>\n",
       "    <tr>\n",
       "      <th>9</th>\n",
       "      <td>0</td>\n",
       "      <td>-2188.756445</td>\n",
       "      <td>41</td>\n",
       "      <td>среднее</td>\n",
       "      <td>1</td>\n",
       "      <td>женат / замужем</td>\n",
       "      <td>0</td>\n",
       "      <td>M</td>\n",
       "      <td>сотрудник</td>\n",
       "      <td>0</td>\n",
       "      <td>144425.938277</td>\n",
       "      <td>покупка жилья для семьи</td>\n",
       "    </tr>\n",
       "    <tr>\n",
       "      <th>10</th>\n",
       "      <td>2</td>\n",
       "      <td>-4171.483647</td>\n",
       "      <td>36</td>\n",
       "      <td>высшее</td>\n",
       "      <td>0</td>\n",
       "      <td>женат / замужем</td>\n",
       "      <td>0</td>\n",
       "      <td>M</td>\n",
       "      <td>компаньон</td>\n",
       "      <td>0</td>\n",
       "      <td>113943.491460</td>\n",
       "      <td>покупка недвижимости</td>\n",
       "    </tr>\n",
       "    <tr>\n",
       "      <th>11</th>\n",
       "      <td>0</td>\n",
       "      <td>-792.701887</td>\n",
       "      <td>40</td>\n",
       "      <td>среднее</td>\n",
       "      <td>1</td>\n",
       "      <td>женат / замужем</td>\n",
       "      <td>0</td>\n",
       "      <td>F</td>\n",
       "      <td>сотрудник</td>\n",
       "      <td>0</td>\n",
       "      <td>77069.234271</td>\n",
       "      <td>покупка коммерческой недвижимости</td>\n",
       "    </tr>\n",
       "    <tr>\n",
       "      <th>12</th>\n",
       "      <td>0</td>\n",
       "      <td>NaN</td>\n",
       "      <td>65</td>\n",
       "      <td>среднее</td>\n",
       "      <td>1</td>\n",
       "      <td>гражданский брак</td>\n",
       "      <td>1</td>\n",
       "      <td>M</td>\n",
       "      <td>пенсионер</td>\n",
       "      <td>0</td>\n",
       "      <td>NaN</td>\n",
       "      <td>сыграть свадьбу</td>\n",
       "    </tr>\n",
       "    <tr>\n",
       "      <th>13</th>\n",
       "      <td>0</td>\n",
       "      <td>-1846.641941</td>\n",
       "      <td>54</td>\n",
       "      <td>неоконченное высшее</td>\n",
       "      <td>2</td>\n",
       "      <td>женат / замужем</td>\n",
       "      <td>0</td>\n",
       "      <td>F</td>\n",
       "      <td>сотрудник</td>\n",
       "      <td>0</td>\n",
       "      <td>130458.228857</td>\n",
       "      <td>приобретение автомобиля</td>\n",
       "    </tr>\n",
       "    <tr>\n",
       "      <th>14</th>\n",
       "      <td>0</td>\n",
       "      <td>-1844.956182</td>\n",
       "      <td>56</td>\n",
       "      <td>высшее</td>\n",
       "      <td>0</td>\n",
       "      <td>гражданский брак</td>\n",
       "      <td>1</td>\n",
       "      <td>F</td>\n",
       "      <td>компаньон</td>\n",
       "      <td>1</td>\n",
       "      <td>165127.911772</td>\n",
       "      <td>покупка жилой недвижимости</td>\n",
       "    </tr>\n",
       "    <tr>\n",
       "      <th>15</th>\n",
       "      <td>1</td>\n",
       "      <td>-972.364419</td>\n",
       "      <td>26</td>\n",
       "      <td>среднее</td>\n",
       "      <td>1</td>\n",
       "      <td>женат / замужем</td>\n",
       "      <td>0</td>\n",
       "      <td>F</td>\n",
       "      <td>сотрудник</td>\n",
       "      <td>0</td>\n",
       "      <td>116820.904450</td>\n",
       "      <td>строительство собственной недвижимости</td>\n",
       "    </tr>\n",
       "    <tr>\n",
       "      <th>16</th>\n",
       "      <td>0</td>\n",
       "      <td>-1719.934226</td>\n",
       "      <td>35</td>\n",
       "      <td>среднее</td>\n",
       "      <td>1</td>\n",
       "      <td>женат / замужем</td>\n",
       "      <td>0</td>\n",
       "      <td>F</td>\n",
       "      <td>сотрудник</td>\n",
       "      <td>0</td>\n",
       "      <td>289202.704229</td>\n",
       "      <td>недвижимость</td>\n",
       "    </tr>\n",
       "    <tr>\n",
       "      <th>17</th>\n",
       "      <td>0</td>\n",
       "      <td>-2369.999720</td>\n",
       "      <td>33</td>\n",
       "      <td>высшее</td>\n",
       "      <td>0</td>\n",
       "      <td>гражданский брак</td>\n",
       "      <td>1</td>\n",
       "      <td>M</td>\n",
       "      <td>сотрудник</td>\n",
       "      <td>0</td>\n",
       "      <td>90410.586745</td>\n",
       "      <td>строительство недвижимости</td>\n",
       "    </tr>\n",
       "    <tr>\n",
       "      <th>18</th>\n",
       "      <td>0</td>\n",
       "      <td>400281.136913</td>\n",
       "      <td>53</td>\n",
       "      <td>среднее</td>\n",
       "      <td>1</td>\n",
       "      <td>вдовец / вдова</td>\n",
       "      <td>2</td>\n",
       "      <td>F</td>\n",
       "      <td>пенсионер</td>\n",
       "      <td>0</td>\n",
       "      <td>56823.777243</td>\n",
       "      <td>на покупку подержанного автомобиля</td>\n",
       "    </tr>\n",
       "    <tr>\n",
       "      <th>19</th>\n",
       "      <td>0</td>\n",
       "      <td>-10038.818549</td>\n",
       "      <td>48</td>\n",
       "      <td>СРЕДНЕЕ</td>\n",
       "      <td>1</td>\n",
       "      <td>в разводе</td>\n",
       "      <td>3</td>\n",
       "      <td>F</td>\n",
       "      <td>сотрудник</td>\n",
       "      <td>0</td>\n",
       "      <td>242831.107982</td>\n",
       "      <td>на покупку своего автомобиля</td>\n",
       "    </tr>\n",
       "  </tbody>\n",
       "</table>\n",
       "</div>"
      ],
      "text/plain": [
       "    children  days_employed  dob_years            education  education_id  \\\n",
       "0          1   -8437.673028         42               высшее             0   \n",
       "1          1   -4024.803754         36              среднее             1   \n",
       "2          0   -5623.422610         33              Среднее             1   \n",
       "3          3   -4124.747207         32              среднее             1   \n",
       "4          0  340266.072047         53              среднее             1   \n",
       "5          0    -926.185831         27               высшее             0   \n",
       "6          0   -2879.202052         43               высшее             0   \n",
       "7          0    -152.779569         50              СРЕДНЕЕ             1   \n",
       "8          2   -6929.865299         35               ВЫСШЕЕ             0   \n",
       "9          0   -2188.756445         41              среднее             1   \n",
       "10         2   -4171.483647         36               высшее             0   \n",
       "11         0    -792.701887         40              среднее             1   \n",
       "12         0            NaN         65              среднее             1   \n",
       "13         0   -1846.641941         54  неоконченное высшее             2   \n",
       "14         0   -1844.956182         56               высшее             0   \n",
       "15         1    -972.364419         26              среднее             1   \n",
       "16         0   -1719.934226         35              среднее             1   \n",
       "17         0   -2369.999720         33               высшее             0   \n",
       "18         0  400281.136913         53              среднее             1   \n",
       "19         0  -10038.818549         48              СРЕДНЕЕ             1   \n",
       "\n",
       "       family_status  family_status_id gender income_type  debt  \\\n",
       "0    женат / замужем                 0      F   сотрудник     0   \n",
       "1    женат / замужем                 0      F   сотрудник     0   \n",
       "2    женат / замужем                 0      M   сотрудник     0   \n",
       "3    женат / замужем                 0      M   сотрудник     0   \n",
       "4   гражданский брак                 1      F   пенсионер     0   \n",
       "5   гражданский брак                 1      M   компаньон     0   \n",
       "6    женат / замужем                 0      F   компаньон     0   \n",
       "7    женат / замужем                 0      M   сотрудник     0   \n",
       "8   гражданский брак                 1      F   сотрудник     0   \n",
       "9    женат / замужем                 0      M   сотрудник     0   \n",
       "10   женат / замужем                 0      M   компаньон     0   \n",
       "11   женат / замужем                 0      F   сотрудник     0   \n",
       "12  гражданский брак                 1      M   пенсионер     0   \n",
       "13   женат / замужем                 0      F   сотрудник     0   \n",
       "14  гражданский брак                 1      F   компаньон     1   \n",
       "15   женат / замужем                 0      F   сотрудник     0   \n",
       "16   женат / замужем                 0      F   сотрудник     0   \n",
       "17  гражданский брак                 1      M   сотрудник     0   \n",
       "18    вдовец / вдова                 2      F   пенсионер     0   \n",
       "19         в разводе                 3      F   сотрудник     0   \n",
       "\n",
       "     total_income                                 purpose  \n",
       "0   253875.639453                           покупка жилья  \n",
       "1   112080.014102                 приобретение автомобиля  \n",
       "2   145885.952297                           покупка жилья  \n",
       "3   267628.550329              дополнительное образование  \n",
       "4   158616.077870                         сыграть свадьбу  \n",
       "5   255763.565419                           покупка жилья  \n",
       "6   240525.971920                       операции с жильем  \n",
       "7   135823.934197                             образование  \n",
       "8    95856.832424                   на проведение свадьбы  \n",
       "9   144425.938277                 покупка жилья для семьи  \n",
       "10  113943.491460                    покупка недвижимости  \n",
       "11   77069.234271       покупка коммерческой недвижимости  \n",
       "12            NaN                         сыграть свадьбу  \n",
       "13  130458.228857                 приобретение автомобиля  \n",
       "14  165127.911772              покупка жилой недвижимости  \n",
       "15  116820.904450  строительство собственной недвижимости  \n",
       "16  289202.704229                            недвижимость  \n",
       "17   90410.586745              строительство недвижимости  \n",
       "18   56823.777243      на покупку подержанного автомобиля  \n",
       "19  242831.107982            на покупку своего автомобиля  "
      ]
     },
     "execution_count": 2,
     "metadata": {},
     "output_type": "execute_result"
    }
   ],
   "source": [
    "data.head(20)"
   ]
  },
  {
   "cell_type": "markdown",
   "id": "dd56234a",
   "metadata": {
    "deletable": false,
    "editable": false,
    "id": "1c12e233"
   },
   "source": [
    "**Задание 3. Выведите основную информацию о датафрейме с помощью метода `info()`.**"
   ]
  },
  {
   "cell_type": "code",
   "execution_count": 3,
   "id": "10d076ed",
   "metadata": {
    "deletable": false,
    "id": "2b757bca",
    "outputId": "15376089-8dad-46c9-b520-c05248d43158"
   },
   "outputs": [
    {
     "name": "stdout",
     "output_type": "stream",
     "text": [
      "<class 'pandas.core.frame.DataFrame'>\n",
      "RangeIndex: 21525 entries, 0 to 21524\n",
      "Data columns (total 12 columns):\n",
      " #   Column            Non-Null Count  Dtype  \n",
      "---  ------            --------------  -----  \n",
      " 0   children          21525 non-null  int64  \n",
      " 1   days_employed     19351 non-null  float64\n",
      " 2   dob_years         21525 non-null  int64  \n",
      " 3   education         21525 non-null  object \n",
      " 4   education_id      21525 non-null  int64  \n",
      " 5   family_status     21525 non-null  object \n",
      " 6   family_status_id  21525 non-null  int64  \n",
      " 7   gender            21525 non-null  object \n",
      " 8   income_type       21525 non-null  object \n",
      " 9   debt              21525 non-null  int64  \n",
      " 10  total_income      19351 non-null  float64\n",
      " 11  purpose           21525 non-null  object \n",
      "dtypes: float64(2), int64(5), object(5)\n",
      "memory usage: 2.0+ MB\n"
     ]
    }
   ],
   "source": [
    "data.info()"
   ]
  },
  {
   "cell_type": "markdown",
   "id": "2a7786b3",
   "metadata": {
    "deletable": false,
    "editable": false,
    "id": "333ec665"
   },
   "source": [
    "## Предобработка данных"
   ]
  },
  {
   "cell_type": "markdown",
   "id": "9823f4f0",
   "metadata": {
    "deletable": false,
    "editable": false,
    "id": "02d92d53"
   },
   "source": [
    "### Удаление пропусков"
   ]
  },
  {
   "cell_type": "markdown",
   "id": "92dda017",
   "metadata": {
    "deletable": false,
    "editable": false,
    "id": "cd84967c"
   },
   "source": [
    "**Задание 4. Выведите количество пропущенных значений для каждого столбца. Используйте комбинацию двух методов.**"
   ]
  },
  {
   "cell_type": "code",
   "execution_count": 4,
   "id": "4741a67e",
   "metadata": {
    "deletable": false,
    "id": "7f9b2309",
    "outputId": "81f4d817-781c-465c-ed15-91ce4446810d"
   },
   "outputs": [
    {
     "data": {
      "text/plain": [
       "children               0\n",
       "days_employed       2174\n",
       "dob_years              0\n",
       "education              0\n",
       "education_id           0\n",
       "family_status          0\n",
       "family_status_id       0\n",
       "gender                 0\n",
       "income_type            0\n",
       "debt                   0\n",
       "total_income        2174\n",
       "purpose                0\n",
       "dtype: int64"
      ]
     },
     "execution_count": 4,
     "metadata": {},
     "output_type": "execute_result"
    }
   ],
   "source": [
    "data.isna().sum()"
   ]
  },
  {
   "cell_type": "markdown",
   "id": "2c858f11",
   "metadata": {
    "deletable": false,
    "editable": false,
    "id": "db86e27b"
   },
   "source": [
    "**Задание 5. В двух столбцах есть пропущенные значения. Один из них — `days_employed`. Пропуски в этом столбце вы обработаете на следующем этапе. Другой столбец с пропущенными значениями — `total_income` — хранит данные о доходах. На сумму дохода сильнее всего влияет тип занятости, поэтому заполнить пропуски в этом столбце нужно медианным значением по каждому типу из столбца `income_type`. Например, у человека с типом занятости `сотрудник` пропуск в столбце `total_income` должен быть заполнен медианным доходом среди всех записей с тем же типом.**"
   ]
  },
  {
   "cell_type": "code",
   "execution_count": 5,
   "id": "d362480e",
   "metadata": {
    "deletable": false,
    "id": "42006a93"
   },
   "outputs": [],
   "source": [
    "for t in data['income_type'].unique():\n",
    "    data.loc[(data['income_type'] == t) & (data['total_income'].isna()), 'total_income'] = \\\n",
    "    data.loc[(data['income_type'] == t), 'total_income'].median()"
   ]
  },
  {
   "cell_type": "markdown",
   "id": "860c7227",
   "metadata": {
    "deletable": false,
    "editable": false,
    "id": "89da5ece"
   },
   "source": [
    "### Обработка аномальных значений"
   ]
  },
  {
   "cell_type": "markdown",
   "id": "488b1f8b",
   "metadata": {
    "deletable": false,
    "editable": false,
    "id": "57964554"
   },
   "source": [
    "**Задание 6. В данных могут встречаться артефакты (аномалии) — значения, которые не отражают действительность и появились по какой-то ошибке. таким артефактом будет отрицательное количество дней трудового стажа в столбце `days_employed`. Для реальных данных это нормально. Обработайте значения в этом столбце: замените все отрицательные значения положительными с помощью метода `abs()`.**"
   ]
  },
  {
   "cell_type": "code",
   "execution_count": 6,
   "id": "b73ef03a",
   "metadata": {
    "deletable": false,
    "id": "f6f055bf"
   },
   "outputs": [],
   "source": [
    "data['days_employed'] = data['days_employed'].abs()"
   ]
  },
  {
   "cell_type": "markdown",
   "id": "36f16df1",
   "metadata": {
    "deletable": false,
    "editable": false,
    "id": "6107dd2f"
   },
   "source": [
    "**Задание 7. Для каждого типа занятости выведите медианное значение трудового стажа `days_employed` в днях.**"
   ]
  },
  {
   "cell_type": "code",
   "execution_count": 7,
   "id": "2e6b9f32",
   "metadata": {
    "deletable": false,
    "id": "85a5faf6",
    "outputId": "801ef80e-522b-4668-f34e-565af7432bcf"
   },
   "outputs": [
    {
     "data": {
      "text/plain": [
       "income_type\n",
       "безработный        366413.652744\n",
       "в декрете            3296.759962\n",
       "госслужащий          2689.368353\n",
       "компаньон            1547.382223\n",
       "пенсионер          365213.306266\n",
       "предприниматель       520.848083\n",
       "сотрудник            1574.202821\n",
       "студент               578.751554\n",
       "Name: days_employed, dtype: float64"
      ]
     },
     "execution_count": 7,
     "metadata": {},
     "output_type": "execute_result"
    }
   ],
   "source": [
    "data.groupby('income_type')['days_employed'].agg('median')"
   ]
  },
  {
   "cell_type": "markdown",
   "id": "b4792f32",
   "metadata": {
    "deletable": false,
    "editable": false,
    "id": "38d1a030"
   },
   "source": [
    "У двух типов (безработные и пенсионеры) получатся аномально большие значения. Исправить такие значения сложно, поэтому оставьте их как есть. Тем более этот столбец не понадобится вам для исследования."
   ]
  },
  {
   "cell_type": "markdown",
   "id": "8d5c35ae",
   "metadata": {
    "deletable": false,
    "editable": false,
    "id": "d8a9f147"
   },
   "source": [
    "**Задание 8. Выведите перечень уникальных значений столбца `children`.**"
   ]
  },
  {
   "cell_type": "code",
   "execution_count": 8,
   "id": "27fed0e6",
   "metadata": {
    "deletable": false,
    "id": "ef5056eb",
    "outputId": "6975b15c-7f95-4697-d16d-a0c79b657b03"
   },
   "outputs": [
    {
     "data": {
      "text/plain": [
       "array([ 1,  0,  3,  2, -1,  4, 20,  5])"
      ]
     },
     "execution_count": 8,
     "metadata": {},
     "output_type": "execute_result"
    }
   ],
   "source": [
    "data['children'].unique()"
   ]
  },
  {
   "cell_type": "markdown",
   "id": "276b0954",
   "metadata": {
    "deletable": false,
    "editable": false,
    "id": "40b9ebf2"
   },
   "source": [
    "**Задание 9. В столбце `children` есть два аномальных значения. Удалите строки, в которых встречаются такие аномальные значения из датафрейма `data`.**"
   ]
  },
  {
   "cell_type": "code",
   "execution_count": 9,
   "id": "b197f208",
   "metadata": {
    "deletable": false,
    "id": "3ff9801d"
   },
   "outputs": [],
   "source": [
    "data = data[(data['children'] != -1) & (data['children'] != 20)]"
   ]
  },
  {
   "cell_type": "markdown",
   "id": "b4fd9f29",
   "metadata": {
    "deletable": false,
    "editable": false,
    "id": "bbc4d0ce"
   },
   "source": [
    "**Задание 10. Ещё раз выведите перечень уникальных значений столбца `children`, чтобы убедиться, что артефакты удалены.**"
   ]
  },
  {
   "cell_type": "code",
   "execution_count": 10,
   "id": "a0dda295",
   "metadata": {
    "deletable": false,
    "id": "ad4fa8b7",
    "outputId": "b2097101-d49d-44d9-901b-32a65c9463d1"
   },
   "outputs": [
    {
     "data": {
      "text/plain": [
       "array([1, 0, 3, 2, 4, 5])"
      ]
     },
     "execution_count": 10,
     "metadata": {},
     "output_type": "execute_result"
    }
   ],
   "source": [
    "data['children'].unique()"
   ]
  },
  {
   "cell_type": "markdown",
   "id": "aaa4d8d9",
   "metadata": {
    "deletable": false,
    "editable": false,
    "id": "75440b63"
   },
   "source": [
    "### Удаление пропусков (продолжение)"
   ]
  },
  {
   "cell_type": "markdown",
   "id": "518b1887",
   "metadata": {
    "deletable": false,
    "editable": false,
    "id": "f4ea573f"
   },
   "source": [
    "**Задание 11. Заполните пропуски в столбце `days_employed` медианными значениями по каждого типа занятости `income_type`.**"
   ]
  },
  {
   "cell_type": "code",
   "execution_count": 11,
   "id": "5067b4c7",
   "metadata": {
    "deletable": false,
    "id": "af6b1a7e"
   },
   "outputs": [],
   "source": [
    "for t in data['income_type'].unique():\n",
    "    data.loc[(data['income_type'] == t) & (data['days_employed'].isna()), 'days_employed'] = \\\n",
    "    data.loc[(data['income_type'] == t), 'days_employed'].median()"
   ]
  },
  {
   "cell_type": "markdown",
   "id": "1fac6fb2",
   "metadata": {
    "deletable": false,
    "editable": false,
    "id": "2753f40d"
   },
   "source": [
    "**Задание 12. Убедитесь, что все пропуски заполнены. Проверьте себя и ещё раз выведите количество пропущенных значений для каждого столбца с помощью двух методов.**"
   ]
  },
  {
   "cell_type": "code",
   "execution_count": 12,
   "id": "0d3e69d0",
   "metadata": {
    "deletable": false,
    "id": "55f78bc2",
    "outputId": "8da1e4e1-358e-4e87-98c9-f261bce0a7b2"
   },
   "outputs": [
    {
     "data": {
      "text/plain": [
       "children            0\n",
       "days_employed       0\n",
       "dob_years           0\n",
       "education           0\n",
       "education_id        0\n",
       "family_status       0\n",
       "family_status_id    0\n",
       "gender              0\n",
       "income_type         0\n",
       "debt                0\n",
       "total_income        0\n",
       "purpose             0\n",
       "dtype: int64"
      ]
     },
     "execution_count": 12,
     "metadata": {},
     "output_type": "execute_result"
    }
   ],
   "source": [
    "data.isna().sum()"
   ]
  },
  {
   "cell_type": "markdown",
   "id": "4a9ac957",
   "metadata": {
    "deletable": false,
    "editable": false,
    "id": "ddc81e43"
   },
   "source": [
    "### Изменение типов данных"
   ]
  },
  {
   "cell_type": "markdown",
   "id": "afc2e3ce",
   "metadata": {
    "deletable": false,
    "editable": false,
    "id": "42d19d24"
   },
   "source": [
    "**Задание 13. Замените вещественный тип данных в столбце `total_income` на целочисленный с помощью метода `astype()`.**"
   ]
  },
  {
   "cell_type": "code",
   "execution_count": 13,
   "id": "2f0cd77a",
   "metadata": {
    "deletable": false,
    "id": "920b65ad"
   },
   "outputs": [],
   "source": [
    "data['total_income'] = data['total_income'].astype(int)"
   ]
  },
  {
   "cell_type": "markdown",
   "id": "9ac52dfe",
   "metadata": {
    "deletable": false,
    "editable": false,
    "id": "80c420ba"
   },
   "source": [
    "### Обработка дубликатов"
   ]
  },
  {
   "cell_type": "markdown",
   "id": "0afb660a",
   "metadata": {
    "deletable": false,
    "editable": false
   },
   "source": [
    "**Задание 14. Обработайте неявные дубликаты в столбце `education`. В этом столбце есть одни и те же значения, но записанные по-разному: с использованием заглавных и строчных букв. Приведите их к нижнему регистру. Проверьте остальные столбцы.**"
   ]
  },
  {
   "cell_type": "code",
   "execution_count": 14,
   "id": "af2b7fba",
   "metadata": {
    "deletable": false
   },
   "outputs": [],
   "source": [
    "data['education'] = data['education'].str.lower()"
   ]
  },
  {
   "cell_type": "markdown",
   "id": "af086567",
   "metadata": {
    "deletable": false,
    "editable": false,
    "id": "dc587695"
   },
   "source": [
    "**Задание 15. Выведите на экран количество строк-дубликатов в данных. Если такие строки присутствуют, удалите их.**"
   ]
  },
  {
   "cell_type": "code",
   "execution_count": 15,
   "id": "ae47de5b",
   "metadata": {
    "deletable": false,
    "id": "3ee445e4",
    "outputId": "9684deba-1934-42d1-99e1-cda61740f822"
   },
   "outputs": [
    {
     "data": {
      "text/plain": [
       "71"
      ]
     },
     "execution_count": 15,
     "metadata": {},
     "output_type": "execute_result"
    }
   ],
   "source": [
    "data.duplicated().sum()"
   ]
  },
  {
   "cell_type": "code",
   "execution_count": 16,
   "id": "cb44287b",
   "metadata": {
    "deletable": false,
    "id": "8575fe05"
   },
   "outputs": [],
   "source": [
    "data = data.drop_duplicates()"
   ]
  },
  {
   "cell_type": "markdown",
   "id": "d79ec675",
   "metadata": {
    "deletable": false,
    "editable": false,
    "id": "9904cf55"
   },
   "source": [
    "### Категоризация данных"
   ]
  },
  {
   "cell_type": "markdown",
   "id": "bbb300e5",
   "metadata": {
    "deletable": false,
    "editable": false,
    "id": "72fcc8a2"
   },
   "source": [
    "**Задание 16. На основании диапазонов, указанных ниже, создайте в датафрейме `data` столбец `total_income_category` с категориями:**\n",
    "\n",
    "- 0–30000 — `'E'`;\n",
    "- 30001–50000 — `'D'`;\n",
    "- 50001–200000 — `'C'`;\n",
    "- 200001–1000000 — `'B'`;\n",
    "- 1000001 и выше — `'A'`.\n",
    "\n",
    "\n",
    "**Например, кредитополучателю с доходом 25000 нужно назначить категорию `'E'`, а клиенту, получающему 235000, — `'B'`. Используйте собственную функцию с именем `categorize_income()` и метод `apply()`.**"
   ]
  },
  {
   "cell_type": "code",
   "execution_count": 17,
   "id": "470e7b81",
   "metadata": {
    "deletable": false,
    "id": "e1771346"
   },
   "outputs": [],
   "source": [
    "def categorize_income(income):\n",
    "    try:\n",
    "        if 0 <= income <= 30000:\n",
    "            return 'E'\n",
    "        elif 30001 <= income <= 50000:\n",
    "            return 'D'\n",
    "        elif 50001 <= income <= 200000:\n",
    "            return 'C'\n",
    "        elif 200001 <= income <= 1000000:\n",
    "            return 'B'\n",
    "        elif income >= 1000001:\n",
    "            return 'A'\n",
    "    except:\n",
    "        pass"
   ]
  },
  {
   "cell_type": "code",
   "execution_count": 18,
   "id": "0896b9a7",
   "metadata": {
    "deletable": false,
    "id": "d5f3586d"
   },
   "outputs": [],
   "source": [
    "data['total_income_category'] = data['total_income'].apply(categorize_income)"
   ]
  },
  {
   "cell_type": "markdown",
   "id": "381b4961",
   "metadata": {
    "deletable": false,
    "editable": false,
    "id": "dde49b5c"
   },
   "source": [
    "**Задание 17. Выведите на экран перечень уникальных целей взятия кредита из столбца `purpose`.**"
   ]
  },
  {
   "cell_type": "code",
   "execution_count": 19,
   "id": "62ad2d29",
   "metadata": {
    "deletable": false,
    "id": "f67ce9b3",
    "outputId": "673c12d9-7d7e-4ae0-9812-c622c89dd244"
   },
   "outputs": [
    {
     "data": {
      "text/plain": [
       "array(['покупка жилья', 'приобретение автомобиля',\n",
       "       'дополнительное образование', 'сыграть свадьбу',\n",
       "       'операции с жильем', 'образование', 'на проведение свадьбы',\n",
       "       'покупка жилья для семьи', 'покупка недвижимости',\n",
       "       'покупка коммерческой недвижимости', 'покупка жилой недвижимости',\n",
       "       'строительство собственной недвижимости', 'недвижимость',\n",
       "       'строительство недвижимости', 'на покупку подержанного автомобиля',\n",
       "       'на покупку своего автомобиля',\n",
       "       'операции с коммерческой недвижимостью',\n",
       "       'строительство жилой недвижимости', 'жилье',\n",
       "       'операции со своей недвижимостью', 'автомобили',\n",
       "       'заняться образованием', 'сделка с подержанным автомобилем',\n",
       "       'получение образования', 'автомобиль', 'свадьба',\n",
       "       'получение дополнительного образования', 'покупка своего жилья',\n",
       "       'операции с недвижимостью', 'получение высшего образования',\n",
       "       'свой автомобиль', 'сделка с автомобилем',\n",
       "       'профильное образование', 'высшее образование',\n",
       "       'покупка жилья для сдачи', 'на покупку автомобиля', 'ремонт жилью',\n",
       "       'заняться высшим образованием'], dtype=object)"
      ]
     },
     "execution_count": 19,
     "metadata": {},
     "output_type": "execute_result"
    }
   ],
   "source": [
    "data['purpose'].unique()"
   ]
  },
  {
   "cell_type": "markdown",
   "id": "0bc6d6ff",
   "metadata": {
    "deletable": false,
    "editable": false,
    "id": "85d0aef0"
   },
   "source": [
    "**Задание 18. Создайте функцию, которая на основании данных из столбца `purpose` сформирует новый столбец `purpose_category`, в который войдут следующие категории:**\n",
    "\n",
    "- `'операции с автомобилем'`,\n",
    "- `'операции с недвижимостью'`,\n",
    "- `'проведение свадьбы'`,\n",
    "- `'получение образования'`.\n",
    "\n",
    "**Например, если в столбце `purpose` находится подстрока `'на покупку автомобиля'`, то в столбце `purpose_category` должна появиться строка `'операции с автомобилем'`.**\n",
    "\n",
    "**Используйте собственную функцию с именем `categorize_purpose()` и метод `apply()`. Изучите данные в столбце `purpose` и определите, какие подстроки помогут вам правильно определить категорию.**"
   ]
  },
  {
   "cell_type": "code",
   "execution_count": 20,
   "id": "dbc59fdd",
   "metadata": {
    "deletable": false,
    "id": "e149fab4"
   },
   "outputs": [],
   "source": [
    "def categorize_purpose(row):\n",
    "    try:\n",
    "        if 'автом' in row:\n",
    "            return 'операции с автомобилем'\n",
    "        elif 'жил' in row or 'недвиж' in row:\n",
    "            return 'операции с недвижимостью'\n",
    "        elif 'свад' in row:\n",
    "            return 'проведение свадьбы'\n",
    "        elif 'образов' in row:\n",
    "            return 'получение образования'\n",
    "    except:\n",
    "        return 'нет категории'"
   ]
  },
  {
   "cell_type": "code",
   "execution_count": 21,
   "id": "aa9eea6f",
   "metadata": {
    "deletable": false,
    "id": "bf36e69b"
   },
   "outputs": [],
   "source": [
    "data['purpose_category'] = data['purpose'].apply(categorize_purpose)"
   ]
  },
  {
   "cell_type": "markdown",
   "id": "00b8cbea",
   "metadata": {
    "deletable": false,
    "editable": false,
    "id": "09b242bf"
   },
   "source": [
    "### Шаг 3. Исследуйте данные и ответьте на вопросы"
   ]
  },
  {
   "cell_type": "markdown",
   "id": "b1fd2c2e",
   "metadata": {
    "deletable": false,
    "editable": false,
    "id": "c5d66278"
   },
   "source": [
    "#### 3.1 Есть ли зависимость между количеством детей и возвратом кредита в срок?"
   ]
  },
  {
   "cell_type": "code",
   "execution_count": 22,
   "id": "58de6456",
   "metadata": {
    "deletable": false,
    "id": "2cacfc4a"
   },
   "outputs": [
    {
     "data": {
      "text/html": [
       "<div>\n",
       "<style scoped>\n",
       "    .dataframe tbody tr th:only-of-type {\n",
       "        vertical-align: middle;\n",
       "    }\n",
       "\n",
       "    .dataframe tbody tr th {\n",
       "        vertical-align: top;\n",
       "    }\n",
       "\n",
       "    .dataframe thead th {\n",
       "        text-align: right;\n",
       "    }\n",
       "</style>\n",
       "<table border=\"1\" class=\"dataframe\">\n",
       "  <thead>\n",
       "    <tr style=\"text-align: right;\">\n",
       "      <th></th>\n",
       "      <th>Всего должников</th>\n",
       "      <th>Всего кредитополучателей</th>\n",
       "      <th>Доля должников</th>\n",
       "    </tr>\n",
       "    <tr>\n",
       "      <th>children</th>\n",
       "      <th></th>\n",
       "      <th></th>\n",
       "      <th></th>\n",
       "    </tr>\n",
       "  </thead>\n",
       "  <tbody>\n",
       "    <tr>\n",
       "      <th>0</th>\n",
       "      <td>1063</td>\n",
       "      <td>14091</td>\n",
       "      <td>7.543822</td>\n",
       "    </tr>\n",
       "    <tr>\n",
       "      <th>1</th>\n",
       "      <td>444</td>\n",
       "      <td>4808</td>\n",
       "      <td>9.234609</td>\n",
       "    </tr>\n",
       "    <tr>\n",
       "      <th>2</th>\n",
       "      <td>194</td>\n",
       "      <td>2052</td>\n",
       "      <td>9.454191</td>\n",
       "    </tr>\n",
       "    <tr>\n",
       "      <th>3</th>\n",
       "      <td>27</td>\n",
       "      <td>330</td>\n",
       "      <td>8.181818</td>\n",
       "    </tr>\n",
       "    <tr>\n",
       "      <th>4</th>\n",
       "      <td>4</td>\n",
       "      <td>41</td>\n",
       "      <td>9.756098</td>\n",
       "    </tr>\n",
       "    <tr>\n",
       "      <th>5</th>\n",
       "      <td>0</td>\n",
       "      <td>9</td>\n",
       "      <td>0.000000</td>\n",
       "    </tr>\n",
       "  </tbody>\n",
       "</table>\n",
       "</div>"
      ],
      "text/plain": [
       "          Всего должников  Всего кредитополучателей  Доля должников\n",
       "children                                                           \n",
       "0                    1063                     14091        7.543822\n",
       "1                     444                      4808        9.234609\n",
       "2                     194                      2052        9.454191\n",
       "3                      27                       330        8.181818\n",
       "4                       4                        41        9.756098\n",
       "5                       0                         9        0.000000"
      ]
     },
     "metadata": {},
     "output_type": "display_data"
    }
   ],
   "source": [
    "# Ваш код будет здесь. Вы можете создавать новые ячейки.\n",
    "#Посчитаем долю должников среди тех, у кого нет детей, 1 ребенок и т.д. Для этого сгруппируем по children.\n",
    "\n",
    "data_final = data.groupby('children').agg({'debt':'sum'})\n",
    "data_final['Всего кредитополучателей'] = data.groupby('children')['debt'].count()\n",
    "data_final['Доля должников'] = data_final['debt'] / data_final['Всего кредитополучателей'] * 100\n",
    "\n",
    "data_final = data_final.rename(columns = {'debt': 'Всего должников'})\n",
    "\n",
    "display(data_final)\n"
   ]
  },
  {
   "cell_type": "markdown",
   "id": "8ae78101",
   "metadata": {
    "deletable": false,
    "id": "3a6b99ec"
   },
   "source": [
    "**Вывод:** Выборка людей с 3, 4 и 5 детьми слишком мала. В случае 0-2 детей можно наблюдать, как с увеличением числа детей доля должников становится всё больше и больше. Может быть, это связано с увеличением финансовой нагрузки в семьях, где появлется ребенок."
   ]
  },
  {
   "cell_type": "markdown",
   "id": "c83f73c7",
   "metadata": {
    "deletable": false,
    "editable": false,
    "id": "97be82ca"
   },
   "source": [
    "#### 3.2 Есть ли зависимость между семейным положением и возвратом кредита в срок?"
   ]
  },
  {
   "cell_type": "code",
   "execution_count": 23,
   "id": "9f2883af",
   "metadata": {
    "deletable": false,
    "id": "dc3f7ee8"
   },
   "outputs": [
    {
     "name": "stdout",
     "output_type": "stream",
     "text": [
      "                       Всего должников  Всего кредитополучателей  \\\n",
      "family_status                                                      \n",
      "Не женат / не замужем              273                      2796   \n",
      "в разводе                           84                      1189   \n",
      "вдовец / вдова                      63                       951   \n",
      "гражданский брак                   385                      4134   \n",
      "женат / замужем                    927                     12261   \n",
      "\n",
      "                       Доля должников  \n",
      "family_status                          \n",
      "Не женат / не замужем        9.763948  \n",
      "в разводе                    7.064760  \n",
      "вдовец / вдова               6.624606  \n",
      "гражданский брак             9.313014  \n",
      "женат / замужем              7.560558  \n"
     ]
    }
   ],
   "source": [
    "# Ваш код будет здесь. Вы можете создавать новые ячейки.\n",
    "data_final = data.groupby('family_status').agg({'debt':'sum'})\n",
    "data_final['Всего кредитополучателей'] = data.groupby('family_status')['debt'].count()\n",
    "data_final['Доля должников'] = data_final['debt'] / data_final['Всего кредитополучателей'] * 100\n",
    "\n",
    "data_final = data_final.rename(columns = {'debt': 'Всего должников'})\n",
    "\n",
    "print(data_final)"
   ]
  },
  {
   "cell_type": "markdown",
   "id": "2dce06b2",
   "metadata": {
    "deletable": false,
    "id": "1cef7837"
   },
   "source": [
    "**Вывод:** Все данные релевантны для исследования. Наибольшее число должников среди неженатых людей и людей в гражданском браке. Наименьшее число должников среди вдов и вдовцов: почти в полтора меньше, чем у людей состоящих в гражданском браке."
   ]
  },
  {
   "cell_type": "markdown",
   "id": "be199998",
   "metadata": {
    "deletable": false,
    "editable": false,
    "id": "1e8b2fca"
   },
   "source": [
    "#### 3.3 Есть ли зависимость между уровнем дохода и возвратом кредита в срок?"
   ]
  },
  {
   "cell_type": "code",
   "execution_count": 24,
   "id": "60fa6d32",
   "metadata": {
    "deletable": false,
    "id": "cd7e3720"
   },
   "outputs": [
    {
     "name": "stdout",
     "output_type": "stream",
     "text": [
      "          Всего должников  Всего кредитополучателей  Доля должников\n",
      "category                                                           \n",
      "A                       2                        25        8.000000\n",
      "B                     354                      5014        7.060231\n",
      "C                    1353                     15921        8.498210\n",
      "D                      21                       349        6.017192\n",
      "E                       2                        22        9.090909\n"
     ]
    }
   ],
   "source": [
    "# Ваш код будет здесь. Вы можете создавать новые ячейки.\n",
    "data['category'] = data['total_income'].apply(categorize_income) ##формируем новый столбец\n",
    "\n",
    "data_final = data.groupby('category').agg({'debt':'sum'})\n",
    "data_final['Всего кредитополучателей'] = data.groupby('category')['debt'].count()\n",
    "data_final['Доля должников'] = data_final['debt'] / data_final['Всего кредитополучателей'] * 100\n",
    "\n",
    "data_final = data_final.rename(columns = {'debt': 'Всего должников'})\n",
    "\n",
    "print(data_final)"
   ]
  },
  {
   "cell_type": "markdown",
   "id": "c4e89172",
   "metadata": {},
   "source": []
  },
  {
   "cell_type": "markdown",
   "id": "78c4a503",
   "metadata": {
    "deletable": false,
    "id": "e8593def"
   },
   "source": [
    "**Вывод:** В категориях A,D,E мало людей - по ним сделать точные выводы не получится. Категории B и C самые многочисленные. Среди более людей с более высоким уровнем дохода (B) должников меньше, чем с более низким (C). "
   ]
  },
  {
   "cell_type": "markdown",
   "id": "be771bd8",
   "metadata": {
    "deletable": false,
    "editable": false,
    "id": "99ecbd1f"
   },
   "source": [
    "#### 3.4 Как разные цели кредита влияют на его возврат в срок?"
   ]
  },
  {
   "cell_type": "code",
   "execution_count": 26,
   "id": "d2cf0e7a",
   "metadata": {
    "deletable": false,
    "id": "2b687290"
   },
   "outputs": [
    {
     "name": "stdout",
     "output_type": "stream",
     "text": [
      "                          Всего должников  Всего кредитополучателей  \\\n",
      "purpose_category                                                      \n",
      "операции с автомобилем                400                      4279   \n",
      "операции с недвижимостью              780                     10751   \n",
      "получение образования                 369                      3988   \n",
      "проведение свадьбы                    183                      2313   \n",
      "\n",
      "                          Доля должников  \n",
      "purpose_category                          \n",
      "операции с автомобилем          9.347978  \n",
      "операции с недвижимостью        7.255139  \n",
      "получение образования           9.252758  \n",
      "проведение свадьбы              7.911803  \n"
     ]
    }
   ],
   "source": [
    "# Ваш код будет здесь. Вы можете создавать новые ячейки.\n",
    "data_final = data.groupby('purpose_category').agg({'debt':'sum'})\n",
    "data_final['Всего кредитополучателей'] = data.groupby('purpose_category')['debt'].count()\n",
    "data_final['Доля должников'] = data_final['debt'] / data_final['Всего кредитополучателей'] * 100\n",
    "\n",
    "data_final = data_final.rename(columns = {'debt': 'Всего должников'})\n",
    "\n",
    "print(data_final)"
   ]
  },
  {
   "cell_type": "markdown",
   "id": "9b1e5d48",
   "metadata": {
    "deletable": false,
    "id": "b4bb2ce6"
   },
   "source": [
    "**Вывод:** \n",
    "\n",
    "В данной выборке нет ни одной группы, которая могла бы быть нерелевантной для выборки. Займы по операциям с недвижимостью составляют 50% от общего количества и при этом заемщики ответственнее подходят к выплатам. Займы по автокредитам имеют наибольшую долю долгов.\n"
   ]
  },
  {
   "cell_type": "markdown",
   "id": "fcb6dd13",
   "metadata": {
    "deletable": false,
    "editable": false,
    "id": "09c3ac4c"
   },
   "source": [
    "#### 3.5 Приведите возможные причины появления пропусков в исходных данных."
   ]
  },
  {
   "cell_type": "raw",
   "id": "77b88e23",
   "metadata": {
    "deletable": false,
    "id": "9da2ceda"
   },
   "source": [
    "*Ответ:* Всего пропусков 2174. Возможно, это человеческий фактор: какие-то данные не были внесены или не были собраны. Может оказаться, что пропуски связаны с какой-то определенной категорией. Однако чтобы выяснить, так это или нет, требуется дополнительный анализ. Еще одной причиной пропусков могла стать некорретная работа базы данных."
   ]
  },
  {
   "cell_type": "markdown",
   "id": "beaad894",
   "metadata": {
    "deletable": false,
    "editable": false,
    "id": "7b0487d6"
   },
   "source": [
    "#### 3.6 Объясните, почему заполнить пропуски медианным значением — лучшее решение для количественных переменных."
   ]
  },
  {
   "cell_type": "markdown",
   "id": "778eec98",
   "metadata": {
    "deletable": false,
    "id": "7ecf2b8e"
   },
   "source": [
    "*Ответ:* Медиана — это баланс между устойчивостью к выбросам, сохранением распределения и простотой, что делает её предпочтительным выбором для большинства количественных переменных среднему арифметическому. Игнорирование пустых строк или удаление может привести к некорретным результатам: например, при подсчёте среднего значения по определенной группе."
   ]
  },
  {
   "cell_type": "markdown",
   "id": "5dfe4d29",
   "metadata": {
    "deletable": false,
    "editable": false,
    "id": "6db5255a"
   },
   "source": [
    "### Шаг 4: общий вывод."
   ]
  },
  {
   "cell_type": "markdown",
   "id": "6d2b6dd0",
   "metadata": {},
   "source": [
    "Для улучшения системы скоринга клиентов была проанализирована выборка текущих клиентов и их задолженностей по платежам.\n",
    "\n",
    "В рамках анализа были проверены следующие гипотезы:\n",
    "1) Есть ли зависимость между количеством детей и возвратом кредита в срок?\n",
    "\n",
    "В рамках данного исследования не удалось оценить группы клиентов с 3, 4 и 5 детьми - выборка оказалась слишком малой для анализа.\n",
    "Категория клиентов без детей оказалась самой многочисленной и процент задержек по кредиту самый низкий - 7.54%. Самый высокий процент задержек по оплатам оказался у клиентов с двумя детьми и составляет 9.45%.\n",
    "\n",
    "2) Есть ли зависимость между семейным положением и возвратом кредита в срок?\n",
    "\n",
    "По результатам проверки данной гипотезы выявлена следующая закономерность - меньше всего просрочек по кредитам у вдов/вдовцев (6.62%), больше всего у клиентов, не состоящих в отношениях (9.76%). \n",
    "Самой массовой категорией являются клиенты в браке, процент просрочек по данной категории составляет 7.56%\n",
    "\n",
    "3) Есть ли зависимость между уровнем дохода и возвратом кредита в срок?\n",
    "\n",
    "По результатам проверки данной гипотезы становится заметно, что среди людей из категории B должников меньше (7.06), чем из категории C (8.5%). Эта же категория (С) является наиболее массовой в выборке\n",
    "\n",
    "Категории клиентов с экстремальными значениями доходов являются слишком малыми. Достоверно говорить о вероятностях просрочек от этих клиентов нельзя.\n",
    "\n",
    "4) Как разные цели кредита влияют на его возврат в срок?\n",
    "\n",
    "По результатам проверки этой гипотезы выявлена следующая закономерность - меньше всего просрочек по кредитам по займам на недвижимость (7.26%), больше всего по займам на автомобиль (9.35%). Самой массовая категория - займы на недвижимость.\n",
    "\n"
   ]
  }
 ],
 "metadata": {
  "ExecuteTimeLog": [
   {
    "duration": 73,
    "start_time": "2025-03-22T01:48:05.165Z"
   },
   {
    "duration": 8,
    "start_time": "2025-03-22T01:51:32.882Z"
   },
   {
    "duration": 488,
    "start_time": "2025-03-22T01:53:40.974Z"
   },
   {
    "duration": 78,
    "start_time": "2025-03-22T01:53:51.984Z"
   },
   {
    "duration": 73,
    "start_time": "2025-03-22T01:54:11.292Z"
   },
   {
    "duration": 525,
    "start_time": "2025-03-22T02:14:34.939Z"
   },
   {
    "duration": 20,
    "start_time": "2025-03-22T02:14:35.466Z"
   },
   {
    "duration": 43,
    "start_time": "2025-03-22T02:14:35.488Z"
   },
   {
    "duration": 19,
    "start_time": "2025-03-22T02:14:35.533Z"
   },
   {
    "duration": 66,
    "start_time": "2025-03-22T02:14:35.554Z"
   },
   {
    "duration": 5,
    "start_time": "2025-03-22T02:14:35.621Z"
   },
   {
    "duration": 20,
    "start_time": "2025-03-22T02:14:35.627Z"
   },
   {
    "duration": 19,
    "start_time": "2025-03-22T02:14:35.649Z"
   },
   {
    "duration": 29,
    "start_time": "2025-03-22T02:14:35.669Z"
   },
   {
    "duration": 25,
    "start_time": "2025-03-22T02:14:35.702Z"
   },
   {
    "duration": 55,
    "start_time": "2025-03-22T02:14:35.729Z"
   },
   {
    "duration": 17,
    "start_time": "2025-03-22T02:14:35.785Z"
   },
   {
    "duration": 29,
    "start_time": "2025-03-22T02:14:35.803Z"
   },
   {
    "duration": 27,
    "start_time": "2025-03-22T02:14:35.833Z"
   },
   {
    "duration": 27,
    "start_time": "2025-03-22T02:14:35.862Z"
   },
   {
    "duration": 25,
    "start_time": "2025-03-22T02:14:35.890Z"
   },
   {
    "duration": 17,
    "start_time": "2025-03-22T02:14:35.917Z"
   },
   {
    "duration": 33,
    "start_time": "2025-03-22T02:14:35.936Z"
   },
   {
    "duration": 33,
    "start_time": "2025-03-22T02:14:35.971Z"
   },
   {
    "duration": 20,
    "start_time": "2025-03-22T02:14:36.006Z"
   },
   {
    "duration": 36,
    "start_time": "2025-03-22T02:14:36.027Z"
   },
   {
    "duration": 46,
    "start_time": "2025-03-22T02:14:36.064Z"
   },
   {
    "duration": 22,
    "start_time": "2025-03-22T02:14:36.111Z"
   },
   {
    "duration": 28,
    "start_time": "2025-03-22T02:14:36.135Z"
   },
   {
    "duration": 37,
    "start_time": "2025-03-22T02:14:36.164Z"
   },
   {
    "duration": 9,
    "start_time": "2025-03-22T02:14:43.327Z"
   },
   {
    "duration": 9,
    "start_time": "2025-03-22T02:14:48.225Z"
   },
   {
    "duration": 17,
    "start_time": "2025-03-22T02:15:06.172Z"
   },
   {
    "duration": 12,
    "start_time": "2025-03-22T02:15:26.549Z"
   },
   {
    "duration": 8,
    "start_time": "2025-03-22T02:16:32.611Z"
   },
   {
    "duration": 64,
    "start_time": "2025-03-22T02:28:09.924Z"
   },
   {
    "duration": 8,
    "start_time": "2025-03-22T02:28:24.167Z"
   },
   {
    "duration": 7,
    "start_time": "2025-03-22T02:29:51.246Z"
   },
   {
    "duration": 26,
    "start_time": "2025-03-22T02:39:47.735Z"
   },
   {
    "duration": 37,
    "start_time": "2025-03-22T02:39:59.821Z"
   },
   {
    "duration": 25,
    "start_time": "2025-03-22T02:40:10.338Z"
   },
   {
    "duration": 14,
    "start_time": "2025-03-22T02:40:35.259Z"
   },
   {
    "duration": 14,
    "start_time": "2025-03-22T02:42:12.204Z"
   },
   {
    "duration": 12,
    "start_time": "2025-03-22T02:42:23.513Z"
   },
   {
    "duration": 12,
    "start_time": "2025-03-22T02:43:14.666Z"
   },
   {
    "duration": 12,
    "start_time": "2025-03-22T02:43:29.588Z"
   },
   {
    "duration": 9,
    "start_time": "2025-03-22T02:44:17.753Z"
   },
   {
    "duration": 7,
    "start_time": "2025-03-22T02:45:04.433Z"
   },
   {
    "duration": 88,
    "start_time": "2025-03-22T02:59:41.804Z"
   },
   {
    "duration": 142,
    "start_time": "2025-03-22T03:01:23.967Z"
   },
   {
    "duration": 89,
    "start_time": "2025-03-22T03:01:56.505Z"
   },
   {
    "duration": 105,
    "start_time": "2025-03-22T03:17:29.830Z"
   },
   {
    "duration": 44,
    "start_time": "2025-03-22T03:17:53.243Z"
   },
   {
    "duration": 39,
    "start_time": "2025-03-22T03:18:04.126Z"
   },
   {
    "duration": 629,
    "start_time": "2025-03-22T03:24:04.639Z"
   },
   {
    "duration": 44,
    "start_time": "2025-03-22T03:25:01.057Z"
   },
   {
    "duration": 503,
    "start_time": "2025-03-22T03:26:18.549Z"
   },
   {
    "duration": 20,
    "start_time": "2025-03-22T03:26:19.053Z"
   },
   {
    "duration": 16,
    "start_time": "2025-03-22T03:26:19.075Z"
   },
   {
    "duration": 9,
    "start_time": "2025-03-22T03:26:19.093Z"
   },
   {
    "duration": 44,
    "start_time": "2025-03-22T03:26:19.104Z"
   },
   {
    "duration": 3,
    "start_time": "2025-03-22T03:26:19.150Z"
   },
   {
    "duration": 24,
    "start_time": "2025-03-22T03:26:19.154Z"
   },
   {
    "duration": 3,
    "start_time": "2025-03-22T03:26:19.180Z"
   },
   {
    "duration": 8,
    "start_time": "2025-03-22T03:26:19.184Z"
   },
   {
    "duration": 3,
    "start_time": "2025-03-22T03:26:19.194Z"
   },
   {
    "duration": 36,
    "start_time": "2025-03-22T03:26:19.199Z"
   },
   {
    "duration": 42,
    "start_time": "2025-03-22T03:26:19.237Z"
   },
   {
    "duration": 4,
    "start_time": "2025-03-22T03:26:19.280Z"
   },
   {
    "duration": 17,
    "start_time": "2025-03-22T03:26:19.285Z"
   },
   {
    "duration": 36,
    "start_time": "2025-03-22T03:26:19.303Z"
   },
   {
    "duration": 46,
    "start_time": "2025-03-22T03:26:19.341Z"
   },
   {
    "duration": 3,
    "start_time": "2025-03-22T03:26:19.389Z"
   },
   {
    "duration": 11,
    "start_time": "2025-03-22T03:26:19.394Z"
   },
   {
    "duration": 5,
    "start_time": "2025-03-22T03:26:19.407Z"
   },
   {
    "duration": 3,
    "start_time": "2025-03-22T03:26:19.414Z"
   },
   {
    "duration": 10,
    "start_time": "2025-03-22T03:26:19.418Z"
   },
   {
    "duration": 67,
    "start_time": "2025-03-22T03:26:19.429Z"
   },
   {
    "duration": 3,
    "start_time": "2025-03-22T03:26:19.498Z"
   },
   {
    "duration": 11,
    "start_time": "2025-03-22T03:26:19.502Z"
   },
   {
    "duration": 2,
    "start_time": "2025-03-22T03:26:19.515Z"
   },
   {
    "duration": 13,
    "start_time": "2025-03-22T03:30:39.393Z"
   },
   {
    "duration": 3,
    "start_time": "2025-03-22T03:30:58.380Z"
   },
   {
    "duration": 14,
    "start_time": "2025-03-22T03:31:05.030Z"
   },
   {
    "duration": 71,
    "start_time": "2025-03-22T03:41:10.210Z"
   },
   {
    "duration": 7,
    "start_time": "2025-03-22T03:42:46.902Z"
   },
   {
    "duration": 11,
    "start_time": "2025-03-22T03:43:52.960Z"
   },
   {
    "duration": 7,
    "start_time": "2025-03-22T03:44:34.916Z"
   },
   {
    "duration": 7,
    "start_time": "2025-03-22T03:45:41.097Z"
   },
   {
    "duration": 9,
    "start_time": "2025-03-22T03:46:24.286Z"
   },
   {
    "duration": 347,
    "start_time": "2025-03-22T03:48:32.276Z"
   },
   {
    "duration": 1309,
    "start_time": "2025-03-22T03:49:17.243Z"
   },
   {
    "duration": 7,
    "start_time": "2025-03-22T03:49:35.059Z"
   },
   {
    "duration": 1650,
    "start_time": "2025-03-22T03:54:09.329Z"
   },
   {
    "duration": 10,
    "start_time": "2025-03-22T03:54:39.263Z"
   },
   {
    "duration": 9,
    "start_time": "2025-03-22T03:54:47.395Z"
   },
   {
    "duration": 10,
    "start_time": "2025-03-22T03:54:52.888Z"
   },
   {
    "duration": 1257,
    "start_time": "2025-03-22T03:55:04.144Z"
   },
   {
    "duration": 7,
    "start_time": "2025-03-22T03:55:33.286Z"
   },
   {
    "duration": 4,
    "start_time": "2025-03-22T03:55:56.107Z"
   },
   {
    "duration": 5,
    "start_time": "2025-03-22T03:56:04.914Z"
   },
   {
    "duration": 7,
    "start_time": "2025-03-22T03:56:36.700Z"
   },
   {
    "duration": 8,
    "start_time": "2025-03-22T03:56:49.470Z"
   },
   {
    "duration": 8,
    "start_time": "2025-03-22T03:59:40.095Z"
   },
   {
    "duration": 8,
    "start_time": "2025-03-22T03:59:49.572Z"
   },
   {
    "duration": 13,
    "start_time": "2025-03-22T04:00:03.232Z"
   },
   {
    "duration": 9,
    "start_time": "2025-03-22T04:00:16.422Z"
   },
   {
    "duration": 10,
    "start_time": "2025-03-22T04:00:37.982Z"
   },
   {
    "duration": 13,
    "start_time": "2025-03-22T04:00:49.964Z"
   },
   {
    "duration": 10,
    "start_time": "2025-03-22T04:00:55.233Z"
   },
   {
    "duration": 9,
    "start_time": "2025-03-22T04:01:23.204Z"
   },
   {
    "duration": 8,
    "start_time": "2025-03-22T04:01:37.909Z"
   },
   {
    "duration": 8,
    "start_time": "2025-03-22T04:01:49.803Z"
   },
   {
    "duration": 8,
    "start_time": "2025-03-22T04:01:52.741Z"
   },
   {
    "duration": 2,
    "start_time": "2025-03-22T04:01:54.009Z"
   },
   {
    "duration": 8,
    "start_time": "2025-03-22T04:02:11.321Z"
   },
   {
    "duration": 2,
    "start_time": "2025-03-22T04:02:13.119Z"
   },
   {
    "duration": 8,
    "start_time": "2025-03-22T04:02:18.505Z"
   },
   {
    "duration": 490,
    "start_time": "2025-03-22T04:02:35.474Z"
   },
   {
    "duration": 21,
    "start_time": "2025-03-22T04:02:35.965Z"
   },
   {
    "duration": 37,
    "start_time": "2025-03-22T04:02:35.987Z"
   },
   {
    "duration": 26,
    "start_time": "2025-03-22T04:02:36.026Z"
   },
   {
    "duration": 60,
    "start_time": "2025-03-22T04:02:36.053Z"
   },
   {
    "duration": 4,
    "start_time": "2025-03-22T04:02:36.114Z"
   },
   {
    "duration": 26,
    "start_time": "2025-03-22T04:02:36.119Z"
   },
   {
    "duration": 13,
    "start_time": "2025-03-22T04:02:36.147Z"
   },
   {
    "duration": 38,
    "start_time": "2025-03-22T04:02:36.161Z"
   },
   {
    "duration": 18,
    "start_time": "2025-03-22T04:02:36.203Z"
   },
   {
    "duration": 42,
    "start_time": "2025-03-22T04:02:36.223Z"
   },
   {
    "duration": 12,
    "start_time": "2025-03-22T04:02:36.266Z"
   },
   {
    "duration": 9,
    "start_time": "2025-03-22T04:02:36.279Z"
   },
   {
    "duration": 26,
    "start_time": "2025-03-22T04:02:36.289Z"
   },
   {
    "duration": 23,
    "start_time": "2025-03-22T04:02:36.316Z"
   },
   {
    "duration": 19,
    "start_time": "2025-03-22T04:02:36.341Z"
   },
   {
    "duration": 12,
    "start_time": "2025-03-22T04:02:36.361Z"
   },
   {
    "duration": 16,
    "start_time": "2025-03-22T04:02:36.375Z"
   },
   {
    "duration": 33,
    "start_time": "2025-03-22T04:02:36.392Z"
   },
   {
    "duration": 27,
    "start_time": "2025-03-22T04:02:36.427Z"
   },
   {
    "duration": 14,
    "start_time": "2025-03-22T04:02:36.456Z"
   },
   {
    "duration": 13,
    "start_time": "2025-03-22T04:02:36.471Z"
   },
   {
    "duration": 3,
    "start_time": "2025-03-22T04:02:36.485Z"
   },
   {
    "duration": 3,
    "start_time": "2025-03-22T04:02:36.490Z"
   },
   {
    "duration": 15,
    "start_time": "2025-03-22T04:02:36.494Z"
   },
   {
    "duration": 12,
    "start_time": "2025-03-22T04:03:10.750Z"
   },
   {
    "duration": 12,
    "start_time": "2025-03-22T04:03:19.534Z"
   },
   {
    "duration": 11,
    "start_time": "2025-03-22T04:04:10.962Z"
   },
   {
    "duration": 12,
    "start_time": "2025-03-22T04:04:49.214Z"
   },
   {
    "duration": 12,
    "start_time": "2025-03-22T04:05:10.085Z"
   },
   {
    "duration": 457,
    "start_time": "2025-03-22T04:05:56.489Z"
   },
   {
    "duration": 21,
    "start_time": "2025-03-22T04:05:56.948Z"
   },
   {
    "duration": 19,
    "start_time": "2025-03-22T04:05:56.972Z"
   },
   {
    "duration": 11,
    "start_time": "2025-03-22T04:05:56.993Z"
   },
   {
    "duration": 34,
    "start_time": "2025-03-22T04:05:57.006Z"
   },
   {
    "duration": 4,
    "start_time": "2025-03-22T04:05:57.042Z"
   },
   {
    "duration": 32,
    "start_time": "2025-03-22T04:05:57.047Z"
   },
   {
    "duration": 6,
    "start_time": "2025-03-22T04:05:57.080Z"
   },
   {
    "duration": 8,
    "start_time": "2025-03-22T04:05:57.087Z"
   },
   {
    "duration": 5,
    "start_time": "2025-03-22T04:05:57.096Z"
   },
   {
    "duration": 34,
    "start_time": "2025-03-22T04:05:57.103Z"
   },
   {
    "duration": 38,
    "start_time": "2025-03-22T04:05:57.139Z"
   },
   {
    "duration": 4,
    "start_time": "2025-03-22T04:05:57.180Z"
   },
   {
    "duration": 15,
    "start_time": "2025-03-22T04:05:57.186Z"
   },
   {
    "duration": 20,
    "start_time": "2025-03-22T04:05:57.202Z"
   },
   {
    "duration": 16,
    "start_time": "2025-03-22T04:05:57.223Z"
   },
   {
    "duration": 3,
    "start_time": "2025-03-22T04:05:57.241Z"
   },
   {
    "duration": 17,
    "start_time": "2025-03-22T04:05:57.273Z"
   },
   {
    "duration": 8,
    "start_time": "2025-03-22T04:05:57.292Z"
   },
   {
    "duration": 5,
    "start_time": "2025-03-22T04:05:57.302Z"
   },
   {
    "duration": 10,
    "start_time": "2025-03-22T04:05:57.309Z"
   },
   {
    "duration": 1639,
    "start_time": "2025-03-22T04:05:57.320Z"
   },
   {
    "duration": 0,
    "start_time": "2025-03-22T04:05:58.961Z"
   },
   {
    "duration": 0,
    "start_time": "2025-03-22T04:05:58.963Z"
   },
   {
    "duration": 0,
    "start_time": "2025-03-22T04:05:58.964Z"
   },
   {
    "duration": 10,
    "start_time": "2025-03-22T04:06:34.517Z"
   },
   {
    "duration": 12,
    "start_time": "2025-03-22T04:06:44.286Z"
   },
   {
    "duration": 475,
    "start_time": "2025-03-22T04:06:51.375Z"
   },
   {
    "duration": 21,
    "start_time": "2025-03-22T04:06:51.851Z"
   },
   {
    "duration": 18,
    "start_time": "2025-03-22T04:06:51.873Z"
   },
   {
    "duration": 10,
    "start_time": "2025-03-22T04:06:51.893Z"
   },
   {
    "duration": 40,
    "start_time": "2025-03-22T04:06:51.904Z"
   },
   {
    "duration": 3,
    "start_time": "2025-03-22T04:06:51.945Z"
   },
   {
    "duration": 25,
    "start_time": "2025-03-22T04:06:51.950Z"
   },
   {
    "duration": 24,
    "start_time": "2025-03-22T04:06:51.977Z"
   },
   {
    "duration": 31,
    "start_time": "2025-03-22T04:06:52.003Z"
   },
   {
    "duration": 12,
    "start_time": "2025-03-22T04:06:52.036Z"
   },
   {
    "duration": 55,
    "start_time": "2025-03-22T04:06:52.049Z"
   },
   {
    "duration": 10,
    "start_time": "2025-03-22T04:06:52.106Z"
   },
   {
    "duration": 8,
    "start_time": "2025-03-22T04:06:52.118Z"
   },
   {
    "duration": 15,
    "start_time": "2025-03-22T04:06:52.128Z"
   },
   {
    "duration": 32,
    "start_time": "2025-03-22T04:06:52.145Z"
   },
   {
    "duration": 19,
    "start_time": "2025-03-22T04:06:52.178Z"
   },
   {
    "duration": 4,
    "start_time": "2025-03-22T04:06:52.199Z"
   },
   {
    "duration": 13,
    "start_time": "2025-03-22T04:06:52.205Z"
   },
   {
    "duration": 7,
    "start_time": "2025-03-22T04:06:52.220Z"
   },
   {
    "duration": 8,
    "start_time": "2025-03-22T04:06:52.229Z"
   },
   {
    "duration": 42,
    "start_time": "2025-03-22T04:06:52.239Z"
   },
   {
    "duration": 26,
    "start_time": "2025-03-22T04:06:52.282Z"
   },
   {
    "duration": 2,
    "start_time": "2025-03-22T04:06:52.310Z"
   },
   {
    "duration": 8,
    "start_time": "2025-03-22T04:06:52.314Z"
   },
   {
    "duration": 3,
    "start_time": "2025-03-22T04:06:52.323Z"
   },
   {
    "duration": 10,
    "start_time": "2025-03-22T04:09:27.275Z"
   },
   {
    "duration": 474,
    "start_time": "2025-03-22T04:09:35.015Z"
   },
   {
    "duration": 23,
    "start_time": "2025-03-22T04:09:35.490Z"
   },
   {
    "duration": 32,
    "start_time": "2025-03-22T04:09:35.514Z"
   },
   {
    "duration": 14,
    "start_time": "2025-03-22T04:09:35.548Z"
   },
   {
    "duration": 44,
    "start_time": "2025-03-22T04:09:35.564Z"
   },
   {
    "duration": 3,
    "start_time": "2025-03-22T04:09:35.610Z"
   },
   {
    "duration": 35,
    "start_time": "2025-03-22T04:09:35.614Z"
   },
   {
    "duration": 8,
    "start_time": "2025-03-22T04:09:35.651Z"
   },
   {
    "duration": 7,
    "start_time": "2025-03-22T04:09:35.660Z"
   },
   {
    "duration": 5,
    "start_time": "2025-03-22T04:09:35.670Z"
   },
   {
    "duration": 51,
    "start_time": "2025-03-22T04:09:35.676Z"
   },
   {
    "duration": 9,
    "start_time": "2025-03-22T04:09:35.729Z"
   },
   {
    "duration": 10,
    "start_time": "2025-03-22T04:09:35.740Z"
   },
   {
    "duration": 11,
    "start_time": "2025-03-22T04:09:35.752Z"
   },
   {
    "duration": 27,
    "start_time": "2025-03-22T04:09:35.772Z"
   },
   {
    "duration": 15,
    "start_time": "2025-03-22T04:09:35.801Z"
   },
   {
    "duration": 3,
    "start_time": "2025-03-22T04:09:35.818Z"
   },
   {
    "duration": 11,
    "start_time": "2025-03-22T04:09:35.822Z"
   },
   {
    "duration": 18,
    "start_time": "2025-03-22T04:09:35.834Z"
   },
   {
    "duration": 3,
    "start_time": "2025-03-22T04:09:35.854Z"
   },
   {
    "duration": 24,
    "start_time": "2025-03-22T04:09:35.873Z"
   },
   {
    "duration": 24,
    "start_time": "2025-03-22T04:09:35.898Z"
   },
   {
    "duration": 41,
    "start_time": "2025-03-22T04:09:35.923Z"
   },
   {
    "duration": 4,
    "start_time": "2025-03-22T04:09:35.966Z"
   },
   {
    "duration": 5,
    "start_time": "2025-03-22T04:09:35.971Z"
   },
   {
    "duration": 10,
    "start_time": "2025-03-22T04:10:22.259Z"
   },
   {
    "duration": 13,
    "start_time": "2025-03-22T04:12:50.329Z"
   },
   {
    "duration": 500,
    "start_time": "2025-03-22T04:12:57.255Z"
   },
   {
    "duration": 20,
    "start_time": "2025-03-22T04:12:57.756Z"
   },
   {
    "duration": 14,
    "start_time": "2025-03-22T04:12:57.778Z"
   },
   {
    "duration": 9,
    "start_time": "2025-03-22T04:12:57.794Z"
   },
   {
    "duration": 34,
    "start_time": "2025-03-22T04:12:57.804Z"
   },
   {
    "duration": 34,
    "start_time": "2025-03-22T04:12:57.840Z"
   },
   {
    "duration": 10,
    "start_time": "2025-03-22T04:12:57.875Z"
   },
   {
    "duration": 3,
    "start_time": "2025-03-22T04:12:57.887Z"
   },
   {
    "duration": 8,
    "start_time": "2025-03-22T04:12:57.891Z"
   },
   {
    "duration": 3,
    "start_time": "2025-03-22T04:12:57.901Z"
   },
   {
    "duration": 70,
    "start_time": "2025-03-22T04:12:57.906Z"
   },
   {
    "duration": 10,
    "start_time": "2025-03-22T04:12:57.977Z"
   },
   {
    "duration": 16,
    "start_time": "2025-03-22T04:12:57.989Z"
   },
   {
    "duration": 16,
    "start_time": "2025-03-22T04:12:58.006Z"
   },
   {
    "duration": 23,
    "start_time": "2025-03-22T04:12:58.023Z"
   },
   {
    "duration": 34,
    "start_time": "2025-03-22T04:12:58.047Z"
   },
   {
    "duration": 3,
    "start_time": "2025-03-22T04:12:58.082Z"
   },
   {
    "duration": 11,
    "start_time": "2025-03-22T04:12:58.087Z"
   },
   {
    "duration": 5,
    "start_time": "2025-03-22T04:12:58.100Z"
   },
   {
    "duration": 3,
    "start_time": "2025-03-22T04:12:58.107Z"
   },
   {
    "duration": 9,
    "start_time": "2025-03-22T04:12:58.111Z"
   },
   {
    "duration": 14,
    "start_time": "2025-03-22T04:12:58.121Z"
   },
   {
    "duration": 2,
    "start_time": "2025-03-22T04:12:58.173Z"
   },
   {
    "duration": 15,
    "start_time": "2025-03-22T04:12:58.176Z"
   },
   {
    "duration": 3,
    "start_time": "2025-03-22T04:12:58.193Z"
   },
   {
    "duration": 71,
    "start_time": "2025-03-22T04:13:47.099Z"
   },
   {
    "duration": 10,
    "start_time": "2025-03-22T04:14:02.310Z"
   },
   {
    "duration": 436,
    "start_time": "2025-03-22T04:14:07.913Z"
   },
   {
    "duration": 19,
    "start_time": "2025-03-22T04:14:08.351Z"
   },
   {
    "duration": 14,
    "start_time": "2025-03-22T04:14:08.371Z"
   },
   {
    "duration": 10,
    "start_time": "2025-03-22T04:14:08.387Z"
   },
   {
    "duration": 33,
    "start_time": "2025-03-22T04:14:08.398Z"
   },
   {
    "duration": 3,
    "start_time": "2025-03-22T04:14:08.433Z"
   },
   {
    "duration": 8,
    "start_time": "2025-03-22T04:14:08.437Z"
   },
   {
    "duration": 28,
    "start_time": "2025-03-22T04:14:08.447Z"
   },
   {
    "duration": 8,
    "start_time": "2025-03-22T04:14:08.477Z"
   },
   {
    "duration": 4,
    "start_time": "2025-03-22T04:14:08.487Z"
   },
   {
    "duration": 33,
    "start_time": "2025-03-22T04:14:08.492Z"
   },
   {
    "duration": 10,
    "start_time": "2025-03-22T04:14:08.526Z"
   },
   {
    "duration": 3,
    "start_time": "2025-03-22T04:14:08.538Z"
   },
   {
    "duration": 12,
    "start_time": "2025-03-22T04:14:08.573Z"
   },
   {
    "duration": 19,
    "start_time": "2025-03-22T04:14:08.586Z"
   },
   {
    "duration": 17,
    "start_time": "2025-03-22T04:14:08.606Z"
   },
   {
    "duration": 3,
    "start_time": "2025-03-22T04:14:08.625Z"
   },
   {
    "duration": 10,
    "start_time": "2025-03-22T04:14:08.629Z"
   },
   {
    "duration": 32,
    "start_time": "2025-03-22T04:14:08.641Z"
   },
   {
    "duration": 3,
    "start_time": "2025-03-22T04:14:08.676Z"
   },
   {
    "duration": 9,
    "start_time": "2025-03-22T04:14:08.681Z"
   },
   {
    "duration": 11,
    "start_time": "2025-03-22T04:14:08.691Z"
   },
   {
    "duration": 2,
    "start_time": "2025-03-22T04:14:08.703Z"
   },
   {
    "duration": 3,
    "start_time": "2025-03-22T04:14:08.706Z"
   },
   {
    "duration": 3,
    "start_time": "2025-03-22T04:14:08.711Z"
   },
   {
    "duration": 12,
    "start_time": "2025-03-22T04:14:17.622Z"
   },
   {
    "duration": 438,
    "start_time": "2025-03-22T04:14:36.618Z"
   },
   {
    "duration": 19,
    "start_time": "2025-03-22T04:14:37.058Z"
   },
   {
    "duration": 14,
    "start_time": "2025-03-22T04:14:37.079Z"
   },
   {
    "duration": 9,
    "start_time": "2025-03-22T04:14:37.095Z"
   },
   {
    "duration": 34,
    "start_time": "2025-03-22T04:14:37.106Z"
   },
   {
    "duration": 3,
    "start_time": "2025-03-22T04:14:37.142Z"
   },
   {
    "duration": 33,
    "start_time": "2025-03-22T04:14:37.146Z"
   },
   {
    "duration": 4,
    "start_time": "2025-03-22T04:14:37.181Z"
   },
   {
    "duration": 7,
    "start_time": "2025-03-22T04:14:37.187Z"
   },
   {
    "duration": 4,
    "start_time": "2025-03-22T04:14:37.195Z"
   },
   {
    "duration": 33,
    "start_time": "2025-03-22T04:14:37.201Z"
   },
   {
    "duration": 38,
    "start_time": "2025-03-22T04:14:37.236Z"
   },
   {
    "duration": 4,
    "start_time": "2025-03-22T04:14:37.276Z"
   },
   {
    "duration": 12,
    "start_time": "2025-03-22T04:14:37.282Z"
   },
   {
    "duration": 18,
    "start_time": "2025-03-22T04:14:37.296Z"
   },
   {
    "duration": 16,
    "start_time": "2025-03-22T04:14:37.315Z"
   },
   {
    "duration": 3,
    "start_time": "2025-03-22T04:14:37.332Z"
   },
   {
    "duration": 41,
    "start_time": "2025-03-22T04:14:37.337Z"
   },
   {
    "duration": 5,
    "start_time": "2025-03-22T04:14:37.379Z"
   },
   {
    "duration": 4,
    "start_time": "2025-03-22T04:14:37.385Z"
   },
   {
    "duration": 21,
    "start_time": "2025-03-22T04:14:37.390Z"
   },
   {
    "duration": 6,
    "start_time": "2025-03-22T04:14:37.413Z"
   },
   {
    "duration": 3,
    "start_time": "2025-03-22T04:14:37.420Z"
   },
   {
    "duration": 3,
    "start_time": "2025-03-22T04:14:37.424Z"
   },
   {
    "duration": 4,
    "start_time": "2025-03-22T04:14:37.428Z"
   },
   {
    "duration": 7,
    "start_time": "2025-03-22T04:15:16.725Z"
   },
   {
    "duration": 7,
    "start_time": "2025-03-22T04:15:54.177Z"
   },
   {
    "duration": 486,
    "start_time": "2025-03-22T04:16:00.762Z"
   },
   {
    "duration": 22,
    "start_time": "2025-03-22T04:16:01.250Z"
   },
   {
    "duration": 16,
    "start_time": "2025-03-22T04:16:01.273Z"
   },
   {
    "duration": 27,
    "start_time": "2025-03-22T04:16:01.291Z"
   },
   {
    "duration": 48,
    "start_time": "2025-03-22T04:16:01.319Z"
   },
   {
    "duration": 3,
    "start_time": "2025-03-22T04:16:01.369Z"
   },
   {
    "duration": 34,
    "start_time": "2025-03-22T04:16:01.373Z"
   },
   {
    "duration": 23,
    "start_time": "2025-03-22T04:16:01.409Z"
   },
   {
    "duration": 35,
    "start_time": "2025-03-22T04:16:01.433Z"
   },
   {
    "duration": 16,
    "start_time": "2025-03-22T04:16:01.470Z"
   },
   {
    "duration": 65,
    "start_time": "2025-03-22T04:16:01.487Z"
   },
   {
    "duration": 10,
    "start_time": "2025-03-22T04:16:01.554Z"
   },
   {
    "duration": 4,
    "start_time": "2025-03-22T04:16:01.565Z"
   },
   {
    "duration": 49,
    "start_time": "2025-03-22T04:16:01.570Z"
   },
   {
    "duration": 61,
    "start_time": "2025-03-22T04:16:01.620Z"
   },
   {
    "duration": 17,
    "start_time": "2025-03-22T04:16:01.682Z"
   },
   {
    "duration": 12,
    "start_time": "2025-03-22T04:16:01.701Z"
   },
   {
    "duration": 24,
    "start_time": "2025-03-22T04:16:01.714Z"
   },
   {
    "duration": 6,
    "start_time": "2025-03-22T04:16:01.739Z"
   },
   {
    "duration": 25,
    "start_time": "2025-03-22T04:16:01.746Z"
   },
   {
    "duration": 32,
    "start_time": "2025-03-22T04:16:01.773Z"
   },
   {
    "duration": 19,
    "start_time": "2025-03-22T04:16:01.806Z"
   },
   {
    "duration": 18,
    "start_time": "2025-03-22T04:16:01.826Z"
   },
   {
    "duration": 11,
    "start_time": "2025-03-22T04:16:01.845Z"
   },
   {
    "duration": 29,
    "start_time": "2025-03-22T04:16:01.857Z"
   },
   {
    "duration": 7,
    "start_time": "2025-03-22T04:16:30.107Z"
   },
   {
    "duration": 6,
    "start_time": "2025-03-22T04:16:41.676Z"
   },
   {
    "duration": 7,
    "start_time": "2025-03-22T04:17:01.126Z"
   },
   {
    "duration": 7,
    "start_time": "2025-03-22T04:17:11.869Z"
   },
   {
    "duration": 8,
    "start_time": "2025-03-22T04:17:21.023Z"
   },
   {
    "duration": 7,
    "start_time": "2025-03-22T04:20:21.990Z"
   },
   {
    "duration": 7,
    "start_time": "2025-03-22T04:20:49.397Z"
   },
   {
    "duration": 7,
    "start_time": "2025-03-22T04:22:46.865Z"
   },
   {
    "duration": 9,
    "start_time": "2025-03-22T04:24:15.985Z"
   },
   {
    "duration": 7,
    "start_time": "2025-03-22T04:29:16.003Z"
   },
   {
    "duration": 8,
    "start_time": "2025-03-22T04:43:04.841Z"
   },
   {
    "duration": 47,
    "start_time": "2025-03-22T10:16:59.391Z"
   },
   {
    "duration": 472,
    "start_time": "2025-03-22T10:17:07.096Z"
   },
   {
    "duration": 21,
    "start_time": "2025-03-22T10:17:07.570Z"
   },
   {
    "duration": 18,
    "start_time": "2025-03-22T10:17:07.592Z"
   },
   {
    "duration": 17,
    "start_time": "2025-03-22T10:17:07.612Z"
   },
   {
    "duration": 48,
    "start_time": "2025-03-22T10:17:07.631Z"
   },
   {
    "duration": 3,
    "start_time": "2025-03-22T10:17:07.680Z"
   },
   {
    "duration": 13,
    "start_time": "2025-03-22T10:17:07.685Z"
   },
   {
    "duration": 4,
    "start_time": "2025-03-22T10:17:07.699Z"
   },
   {
    "duration": 8,
    "start_time": "2025-03-22T10:17:07.704Z"
   },
   {
    "duration": 3,
    "start_time": "2025-03-22T10:17:07.714Z"
   },
   {
    "duration": 55,
    "start_time": "2025-03-22T10:17:07.719Z"
   },
   {
    "duration": 9,
    "start_time": "2025-03-22T10:17:07.776Z"
   },
   {
    "duration": 10,
    "start_time": "2025-03-22T10:17:07.787Z"
   },
   {
    "duration": 12,
    "start_time": "2025-03-22T10:17:07.799Z"
   },
   {
    "duration": 28,
    "start_time": "2025-03-22T10:17:07.812Z"
   },
   {
    "duration": 33,
    "start_time": "2025-03-22T10:17:07.841Z"
   },
   {
    "duration": 4,
    "start_time": "2025-03-22T10:17:07.875Z"
   },
   {
    "duration": 79,
    "start_time": "2025-03-22T10:17:07.880Z"
   },
   {
    "duration": 11,
    "start_time": "2025-03-22T10:17:07.960Z"
   },
   {
    "duration": 11,
    "start_time": "2025-03-22T10:17:07.973Z"
   },
   {
    "duration": 16,
    "start_time": "2025-03-22T10:17:07.985Z"
   },
   {
    "duration": 7,
    "start_time": "2025-03-22T10:17:08.002Z"
   },
   {
    "duration": 11,
    "start_time": "2025-03-22T10:17:08.011Z"
   },
   {
    "duration": 22,
    "start_time": "2025-03-22T10:17:08.024Z"
   },
   {
    "duration": 18,
    "start_time": "2025-03-22T10:17:08.048Z"
   },
   {
    "duration": 7,
    "start_time": "2025-03-22T10:17:20.786Z"
   },
   {
    "duration": 495,
    "start_time": "2025-03-22T10:24:30.945Z"
   },
   {
    "duration": 20,
    "start_time": "2025-03-22T10:24:31.442Z"
   },
   {
    "duration": 101,
    "start_time": "2025-03-22T10:24:31.464Z"
   },
   {
    "duration": 49,
    "start_time": "2025-03-22T10:24:31.566Z"
   },
   {
    "duration": 61,
    "start_time": "2025-03-22T10:24:31.617Z"
   },
   {
    "duration": 11,
    "start_time": "2025-03-22T10:24:31.680Z"
   },
   {
    "duration": 150,
    "start_time": "2025-03-22T10:24:31.693Z"
   },
   {
    "duration": 160,
    "start_time": "2025-03-22T10:24:31.844Z"
   },
   {
    "duration": 53,
    "start_time": "2025-03-22T10:24:32.006Z"
   },
   {
    "duration": 46,
    "start_time": "2025-03-22T10:24:32.061Z"
   },
   {
    "duration": 72,
    "start_time": "2025-03-22T10:24:32.109Z"
   },
   {
    "duration": 40,
    "start_time": "2025-03-22T10:24:32.182Z"
   },
   {
    "duration": 18,
    "start_time": "2025-03-22T10:24:32.225Z"
   },
   {
    "duration": 36,
    "start_time": "2025-03-22T10:24:32.246Z"
   },
   {
    "duration": 61,
    "start_time": "2025-03-22T10:24:32.284Z"
   },
   {
    "duration": 36,
    "start_time": "2025-03-22T10:24:32.347Z"
   },
   {
    "duration": 22,
    "start_time": "2025-03-22T10:24:32.385Z"
   },
   {
    "duration": 33,
    "start_time": "2025-03-22T10:24:32.409Z"
   },
   {
    "duration": 50,
    "start_time": "2025-03-22T10:24:32.444Z"
   },
   {
    "duration": 17,
    "start_time": "2025-03-22T10:24:32.496Z"
   },
   {
    "duration": 20,
    "start_time": "2025-03-22T10:24:32.515Z"
   },
   {
    "duration": 12,
    "start_time": "2025-03-22T10:24:32.536Z"
   },
   {
    "duration": 32,
    "start_time": "2025-03-22T10:24:32.550Z"
   },
   {
    "duration": 32,
    "start_time": "2025-03-22T10:24:32.584Z"
   },
   {
    "duration": 10,
    "start_time": "2025-03-22T10:24:32.618Z"
   },
   {
    "duration": 11,
    "start_time": "2025-03-22T11:38:25.277Z"
   },
   {
    "duration": 10,
    "start_time": "2025-03-22T11:41:42.988Z"
   },
   {
    "duration": 469,
    "start_time": "2025-03-22T11:42:48.385Z"
   },
   {
    "duration": 21,
    "start_time": "2025-03-22T11:42:48.856Z"
   },
   {
    "duration": 15,
    "start_time": "2025-03-22T11:42:48.878Z"
   },
   {
    "duration": 10,
    "start_time": "2025-03-22T11:42:48.895Z"
   },
   {
    "duration": 56,
    "start_time": "2025-03-22T11:42:48.907Z"
   },
   {
    "duration": 4,
    "start_time": "2025-03-22T11:42:48.964Z"
   },
   {
    "duration": 12,
    "start_time": "2025-03-22T11:42:48.969Z"
   },
   {
    "duration": 6,
    "start_time": "2025-03-22T11:42:48.982Z"
   },
   {
    "duration": 9,
    "start_time": "2025-03-22T11:42:48.989Z"
   },
   {
    "duration": 16,
    "start_time": "2025-03-22T11:42:49.000Z"
   },
   {
    "duration": 54,
    "start_time": "2025-03-22T11:42:49.017Z"
   },
   {
    "duration": 10,
    "start_time": "2025-03-22T11:42:49.073Z"
   },
   {
    "duration": 10,
    "start_time": "2025-03-22T11:42:49.084Z"
   },
   {
    "duration": 13,
    "start_time": "2025-03-22T11:42:49.096Z"
   },
   {
    "duration": 20,
    "start_time": "2025-03-22T11:42:49.110Z"
   },
   {
    "duration": 37,
    "start_time": "2025-03-22T11:42:49.132Z"
   },
   {
    "duration": 9,
    "start_time": "2025-03-22T11:42:49.171Z"
   },
   {
    "duration": 17,
    "start_time": "2025-03-22T11:42:49.182Z"
   },
   {
    "duration": 7,
    "start_time": "2025-03-22T11:42:49.200Z"
   },
   {
    "duration": 4,
    "start_time": "2025-03-22T11:42:49.208Z"
   },
   {
    "duration": 28,
    "start_time": "2025-03-22T11:42:49.213Z"
   },
   {
    "duration": 22,
    "start_time": "2025-03-22T11:42:49.242Z"
   },
   {
    "duration": 9,
    "start_time": "2025-03-22T11:42:49.266Z"
   },
   {
    "duration": 2,
    "start_time": "2025-03-22T11:42:49.277Z"
   },
   {
    "duration": 5,
    "start_time": "2025-03-22T11:42:49.280Z"
   },
   {
    "duration": 527,
    "start_time": "2025-03-22T11:51:32.532Z"
   },
   {
    "duration": 21,
    "start_time": "2025-03-22T11:51:33.061Z"
   },
   {
    "duration": 41,
    "start_time": "2025-03-22T11:51:33.084Z"
   },
   {
    "duration": 10,
    "start_time": "2025-03-22T11:51:33.126Z"
   },
   {
    "duration": 156,
    "start_time": "2025-03-22T11:51:33.138Z"
   },
   {
    "duration": 10,
    "start_time": "2025-03-22T11:51:33.295Z"
   },
   {
    "duration": 35,
    "start_time": "2025-03-22T11:51:33.306Z"
   },
   {
    "duration": 4,
    "start_time": "2025-03-22T11:51:33.343Z"
   },
   {
    "duration": 15,
    "start_time": "2025-03-22T11:51:33.348Z"
   },
   {
    "duration": 26,
    "start_time": "2025-03-22T11:51:33.365Z"
   },
   {
    "duration": 41,
    "start_time": "2025-03-22T11:51:33.393Z"
   },
   {
    "duration": 11,
    "start_time": "2025-03-22T11:51:33.435Z"
   },
   {
    "duration": 6,
    "start_time": "2025-03-22T11:51:33.447Z"
   },
   {
    "duration": 32,
    "start_time": "2025-03-22T11:51:33.456Z"
   },
   {
    "duration": 37,
    "start_time": "2025-03-22T11:51:33.490Z"
   },
   {
    "duration": 17,
    "start_time": "2025-03-22T11:51:33.528Z"
   },
   {
    "duration": 17,
    "start_time": "2025-03-22T11:51:33.547Z"
   },
   {
    "duration": 40,
    "start_time": "2025-03-22T11:51:33.565Z"
   },
   {
    "duration": 13,
    "start_time": "2025-03-22T11:51:33.607Z"
   },
   {
    "duration": 26,
    "start_time": "2025-03-22T11:51:33.621Z"
   },
   {
    "duration": 37,
    "start_time": "2025-03-22T11:51:33.649Z"
   },
   {
    "duration": 30,
    "start_time": "2025-03-22T11:51:33.688Z"
   },
   {
    "duration": 22,
    "start_time": "2025-03-22T11:51:33.719Z"
   },
   {
    "duration": 18,
    "start_time": "2025-03-22T11:51:33.743Z"
   },
   {
    "duration": 112,
    "start_time": "2025-03-22T11:51:33.763Z"
   },
   {
    "duration": 500,
    "start_time": "2025-03-22T11:59:07.075Z"
   },
   {
    "duration": 21,
    "start_time": "2025-03-22T11:59:07.577Z"
   },
   {
    "duration": 20,
    "start_time": "2025-03-22T11:59:07.600Z"
   },
   {
    "duration": 18,
    "start_time": "2025-03-22T11:59:07.622Z"
   },
   {
    "duration": 58,
    "start_time": "2025-03-22T11:59:07.642Z"
   },
   {
    "duration": 4,
    "start_time": "2025-03-22T11:59:07.701Z"
   },
   {
    "duration": 12,
    "start_time": "2025-03-22T11:59:07.706Z"
   },
   {
    "duration": 26,
    "start_time": "2025-03-22T11:59:07.720Z"
   },
   {
    "duration": 34,
    "start_time": "2025-03-22T11:59:07.748Z"
   },
   {
    "duration": 26,
    "start_time": "2025-03-22T11:59:07.783Z"
   },
   {
    "duration": 108,
    "start_time": "2025-03-22T11:59:07.811Z"
   },
   {
    "duration": 10,
    "start_time": "2025-03-22T11:59:07.921Z"
   },
   {
    "duration": 10,
    "start_time": "2025-03-22T11:59:07.933Z"
   },
   {
    "duration": 13,
    "start_time": "2025-03-22T11:59:07.946Z"
   },
   {
    "duration": 40,
    "start_time": "2025-03-22T11:59:07.960Z"
   },
   {
    "duration": 16,
    "start_time": "2025-03-22T11:59:08.002Z"
   },
   {
    "duration": 3,
    "start_time": "2025-03-22T11:59:08.021Z"
   },
   {
    "duration": 13,
    "start_time": "2025-03-22T11:59:08.025Z"
   },
   {
    "duration": 9,
    "start_time": "2025-03-22T11:59:08.039Z"
   },
   {
    "duration": 10,
    "start_time": "2025-03-22T11:59:08.050Z"
   },
   {
    "duration": 20,
    "start_time": "2025-03-22T11:59:08.061Z"
   },
   {
    "duration": 16,
    "start_time": "2025-03-22T11:59:08.082Z"
   },
   {
    "duration": 10,
    "start_time": "2025-03-22T11:59:08.100Z"
   },
   {
    "duration": 16,
    "start_time": "2025-03-22T11:59:08.112Z"
   },
   {
    "duration": 2,
    "start_time": "2025-03-22T11:59:08.130Z"
   },
   {
    "duration": 29,
    "start_time": "2025-03-22T12:05:23.756Z"
   },
   {
    "duration": 498,
    "start_time": "2025-03-22T12:07:26.868Z"
   },
   {
    "duration": 21,
    "start_time": "2025-03-22T12:07:27.368Z"
   },
   {
    "duration": 16,
    "start_time": "2025-03-22T12:07:27.392Z"
   },
   {
    "duration": 11,
    "start_time": "2025-03-22T12:07:27.410Z"
   },
   {
    "duration": 82,
    "start_time": "2025-03-22T12:07:27.424Z"
   },
   {
    "duration": 5,
    "start_time": "2025-03-22T12:07:27.508Z"
   },
   {
    "duration": 12,
    "start_time": "2025-03-22T12:07:27.515Z"
   },
   {
    "duration": 5,
    "start_time": "2025-03-22T12:07:27.529Z"
   },
   {
    "duration": 29,
    "start_time": "2025-03-22T12:07:27.536Z"
   },
   {
    "duration": 5,
    "start_time": "2025-03-22T12:07:27.567Z"
   },
   {
    "duration": 63,
    "start_time": "2025-03-22T12:07:27.573Z"
   },
   {
    "duration": 11,
    "start_time": "2025-03-22T12:07:27.638Z"
   },
   {
    "duration": 16,
    "start_time": "2025-03-22T12:07:27.661Z"
   },
   {
    "duration": 12,
    "start_time": "2025-03-22T12:07:27.679Z"
   },
   {
    "duration": 29,
    "start_time": "2025-03-22T12:07:27.693Z"
   },
   {
    "duration": 17,
    "start_time": "2025-03-22T12:07:27.724Z"
   },
   {
    "duration": 3,
    "start_time": "2025-03-22T12:07:27.743Z"
   },
   {
    "duration": 12,
    "start_time": "2025-03-22T12:07:27.761Z"
   },
   {
    "duration": 7,
    "start_time": "2025-03-22T12:07:27.774Z"
   },
   {
    "duration": 20,
    "start_time": "2025-03-22T12:07:27.783Z"
   },
   {
    "duration": 14,
    "start_time": "2025-03-22T12:07:27.805Z"
   },
   {
    "duration": 53,
    "start_time": "2025-03-22T12:07:27.821Z"
   },
   {
    "duration": 27,
    "start_time": "2025-03-22T12:07:27.875Z"
   },
   {
    "duration": 18,
    "start_time": "2025-03-22T12:07:27.904Z"
   },
   {
    "duration": 3,
    "start_time": "2025-03-22T12:07:27.923Z"
   },
   {
    "duration": 20,
    "start_time": "2025-03-22T12:07:44.357Z"
   },
   {
    "duration": 28,
    "start_time": "2025-03-22T12:08:20.594Z"
   },
   {
    "duration": 31,
    "start_time": "2025-03-22T12:08:56.598Z"
   },
   {
    "duration": 25,
    "start_time": "2025-03-22T12:09:02.597Z"
   },
   {
    "duration": 16,
    "start_time": "2025-03-22T12:09:39.948Z"
   },
   {
    "duration": 17,
    "start_time": "2025-03-22T12:09:56.245Z"
   },
   {
    "duration": 481,
    "start_time": "2025-03-22T12:10:05.496Z"
   },
   {
    "duration": 23,
    "start_time": "2025-03-22T12:10:05.979Z"
   },
   {
    "duration": 70,
    "start_time": "2025-03-22T12:10:06.003Z"
   },
   {
    "duration": 15,
    "start_time": "2025-03-22T12:10:06.074Z"
   },
   {
    "duration": 60,
    "start_time": "2025-03-22T12:10:06.092Z"
   },
   {
    "duration": 4,
    "start_time": "2025-03-22T12:10:06.153Z"
   },
   {
    "duration": 43,
    "start_time": "2025-03-22T12:10:06.158Z"
   },
   {
    "duration": 19,
    "start_time": "2025-03-22T12:10:06.203Z"
   },
   {
    "duration": 32,
    "start_time": "2025-03-22T12:10:06.223Z"
   },
   {
    "duration": 5,
    "start_time": "2025-03-22T12:10:06.257Z"
   },
   {
    "duration": 57,
    "start_time": "2025-03-22T12:10:06.263Z"
   },
   {
    "duration": 21,
    "start_time": "2025-03-22T12:10:06.322Z"
   },
   {
    "duration": 98,
    "start_time": "2025-03-22T12:10:06.345Z"
   },
   {
    "duration": 23,
    "start_time": "2025-03-22T12:10:06.446Z"
   },
   {
    "duration": 22,
    "start_time": "2025-03-22T12:10:06.470Z"
   },
   {
    "duration": 49,
    "start_time": "2025-03-22T12:10:06.494Z"
   },
   {
    "duration": 9,
    "start_time": "2025-03-22T12:10:06.545Z"
   },
   {
    "duration": 17,
    "start_time": "2025-03-22T12:10:06.556Z"
   },
   {
    "duration": 41,
    "start_time": "2025-03-22T12:10:06.574Z"
   },
   {
    "duration": 15,
    "start_time": "2025-03-22T12:10:06.616Z"
   },
   {
    "duration": 9,
    "start_time": "2025-03-22T12:10:06.633Z"
   },
   {
    "duration": 8,
    "start_time": "2025-03-22T12:10:06.643Z"
   },
   {
    "duration": 29,
    "start_time": "2025-03-22T12:10:06.652Z"
   },
   {
    "duration": 114,
    "start_time": "2025-03-22T12:10:06.682Z"
   },
   {
    "duration": 0,
    "start_time": "2025-03-22T12:10:06.798Z"
   },
   {
    "duration": 16,
    "start_time": "2025-03-22T12:10:44.771Z"
   },
   {
    "duration": 15,
    "start_time": "2025-03-22T12:11:06.317Z"
   },
   {
    "duration": 17,
    "start_time": "2025-03-22T12:11:48.715Z"
   },
   {
    "duration": 17,
    "start_time": "2025-03-22T12:12:05.538Z"
   },
   {
    "duration": 491,
    "start_time": "2025-03-22T12:12:24.270Z"
   },
   {
    "duration": 22,
    "start_time": "2025-03-22T12:12:24.763Z"
   },
   {
    "duration": 33,
    "start_time": "2025-03-22T12:12:24.787Z"
   },
   {
    "duration": 18,
    "start_time": "2025-03-22T12:12:24.822Z"
   },
   {
    "duration": 40,
    "start_time": "2025-03-22T12:12:24.841Z"
   },
   {
    "duration": 4,
    "start_time": "2025-03-22T12:12:24.882Z"
   },
   {
    "duration": 19,
    "start_time": "2025-03-22T12:12:24.887Z"
   },
   {
    "duration": 17,
    "start_time": "2025-03-22T12:12:24.908Z"
   },
   {
    "duration": 15,
    "start_time": "2025-03-22T12:12:24.927Z"
   },
   {
    "duration": 5,
    "start_time": "2025-03-22T12:12:24.945Z"
   },
   {
    "duration": 39,
    "start_time": "2025-03-22T12:12:24.951Z"
   },
   {
    "duration": 11,
    "start_time": "2025-03-22T12:12:24.991Z"
   },
   {
    "duration": 81,
    "start_time": "2025-03-22T12:12:25.003Z"
   },
   {
    "duration": 40,
    "start_time": "2025-03-22T12:12:25.086Z"
   },
   {
    "duration": 25,
    "start_time": "2025-03-22T12:12:25.128Z"
   },
   {
    "duration": 17,
    "start_time": "2025-03-22T12:12:25.155Z"
   },
   {
    "duration": 3,
    "start_time": "2025-03-22T12:12:25.174Z"
   },
   {
    "duration": 80,
    "start_time": "2025-03-22T12:12:25.178Z"
   },
   {
    "duration": 45,
    "start_time": "2025-03-22T12:12:25.260Z"
   },
   {
    "duration": 4,
    "start_time": "2025-03-22T12:12:25.306Z"
   },
   {
    "duration": 19,
    "start_time": "2025-03-22T12:12:25.311Z"
   },
   {
    "duration": 10,
    "start_time": "2025-03-22T12:12:25.332Z"
   },
   {
    "duration": 12,
    "start_time": "2025-03-22T12:12:25.344Z"
   },
   {
    "duration": 16,
    "start_time": "2025-03-22T12:12:25.357Z"
   },
   {
    "duration": 2,
    "start_time": "2025-03-22T12:12:25.375Z"
   },
   {
    "duration": 15,
    "start_time": "2025-03-22T12:13:05.537Z"
   },
   {
    "duration": 16,
    "start_time": "2025-03-22T12:13:22.607Z"
   },
   {
    "duration": 17,
    "start_time": "2025-03-22T12:14:13.835Z"
   },
   {
    "duration": 444,
    "start_time": "2025-03-22T12:22:16.417Z"
   },
   {
    "duration": 21,
    "start_time": "2025-03-22T12:22:16.862Z"
   },
   {
    "duration": 20,
    "start_time": "2025-03-22T12:22:16.884Z"
   },
   {
    "duration": 9,
    "start_time": "2025-03-22T12:22:16.906Z"
   },
   {
    "duration": 51,
    "start_time": "2025-03-22T12:22:16.917Z"
   },
   {
    "duration": 3,
    "start_time": "2025-03-22T12:22:16.970Z"
   },
   {
    "duration": 10,
    "start_time": "2025-03-22T12:22:16.975Z"
   },
   {
    "duration": 6,
    "start_time": "2025-03-22T12:22:16.986Z"
   },
   {
    "duration": 10,
    "start_time": "2025-03-22T12:22:16.993Z"
   },
   {
    "duration": 4,
    "start_time": "2025-03-22T12:22:17.004Z"
   },
   {
    "duration": 60,
    "start_time": "2025-03-22T12:22:17.009Z"
   },
   {
    "duration": 10,
    "start_time": "2025-03-22T12:22:17.071Z"
   },
   {
    "duration": 6,
    "start_time": "2025-03-22T12:22:17.082Z"
   },
   {
    "duration": 40,
    "start_time": "2025-03-22T12:22:17.091Z"
   },
   {
    "duration": 32,
    "start_time": "2025-03-22T12:22:17.133Z"
   },
   {
    "duration": 16,
    "start_time": "2025-03-22T12:22:17.166Z"
   },
   {
    "duration": 3,
    "start_time": "2025-03-22T12:22:17.183Z"
   },
   {
    "duration": 14,
    "start_time": "2025-03-22T12:22:17.188Z"
   },
   {
    "duration": 15,
    "start_time": "2025-03-22T12:22:17.203Z"
   },
   {
    "duration": 3,
    "start_time": "2025-03-22T12:22:17.219Z"
   },
   {
    "duration": 9,
    "start_time": "2025-03-22T12:22:17.224Z"
   },
   {
    "duration": 107,
    "start_time": "2025-03-22T12:22:17.234Z"
   },
   {
    "duration": 10,
    "start_time": "2025-03-22T12:22:17.343Z"
   },
   {
    "duration": 15,
    "start_time": "2025-03-22T12:22:17.355Z"
   },
   {
    "duration": 69,
    "start_time": "2025-03-22T12:22:17.372Z"
   },
   {
    "duration": 11,
    "start_time": "2025-03-22T12:22:25.489Z"
   },
   {
    "duration": 12,
    "start_time": "2025-03-22T12:23:10.167Z"
   },
   {
    "duration": 10,
    "start_time": "2025-03-22T12:23:38.479Z"
   },
   {
    "duration": 10,
    "start_time": "2025-03-22T12:23:50.829Z"
   },
   {
    "duration": 11,
    "start_time": "2025-03-22T12:26:47.339Z"
   },
   {
    "duration": 8,
    "start_time": "2025-03-22T12:29:13.448Z"
   },
   {
    "duration": 483,
    "start_time": "2025-03-22T13:33:38.881Z"
   },
   {
    "duration": 21,
    "start_time": "2025-03-22T13:33:39.366Z"
   },
   {
    "duration": 16,
    "start_time": "2025-03-22T13:33:39.388Z"
   },
   {
    "duration": 10,
    "start_time": "2025-03-22T13:33:39.406Z"
   },
   {
    "duration": 62,
    "start_time": "2025-03-22T13:33:39.418Z"
   },
   {
    "duration": 3,
    "start_time": "2025-03-22T13:33:39.482Z"
   },
   {
    "duration": 56,
    "start_time": "2025-03-22T13:33:39.487Z"
   },
   {
    "duration": 10,
    "start_time": "2025-03-22T13:33:39.545Z"
   },
   {
    "duration": 9,
    "start_time": "2025-03-22T13:33:39.556Z"
   },
   {
    "duration": 6,
    "start_time": "2025-03-22T13:33:39.566Z"
   },
   {
    "duration": 52,
    "start_time": "2025-03-22T13:33:39.573Z"
   },
   {
    "duration": 12,
    "start_time": "2025-03-22T13:33:39.627Z"
   },
   {
    "duration": 7,
    "start_time": "2025-03-22T13:33:39.641Z"
   },
   {
    "duration": 19,
    "start_time": "2025-03-22T13:33:39.651Z"
   },
   {
    "duration": 23,
    "start_time": "2025-03-22T13:33:39.672Z"
   },
   {
    "duration": 16,
    "start_time": "2025-03-22T13:33:39.696Z"
   },
   {
    "duration": 4,
    "start_time": "2025-03-22T13:33:39.714Z"
   },
   {
    "duration": 11,
    "start_time": "2025-03-22T13:33:39.719Z"
   },
   {
    "duration": 31,
    "start_time": "2025-03-22T13:33:39.732Z"
   },
   {
    "duration": 3,
    "start_time": "2025-03-22T13:33:39.765Z"
   },
   {
    "duration": 10,
    "start_time": "2025-03-22T13:33:39.770Z"
   },
   {
    "duration": 8,
    "start_time": "2025-03-22T13:33:39.782Z"
   },
   {
    "duration": 10,
    "start_time": "2025-03-22T13:33:39.792Z"
   },
   {
    "duration": 16,
    "start_time": "2025-03-22T13:33:39.803Z"
   },
   {
    "duration": 48,
    "start_time": "2025-03-22T13:33:39.821Z"
   },
   {
    "duration": 99,
    "start_time": "2025-03-22T13:33:39.870Z"
   },
   {
    "duration": 465,
    "start_time": "2025-03-22T19:07:50.115Z"
   },
   {
    "duration": 21,
    "start_time": "2025-03-22T19:07:50.581Z"
   },
   {
    "duration": 15,
    "start_time": "2025-03-22T19:07:50.603Z"
   },
   {
    "duration": 10,
    "start_time": "2025-03-22T19:07:50.620Z"
   },
   {
    "duration": 60,
    "start_time": "2025-03-22T19:07:50.632Z"
   },
   {
    "duration": 3,
    "start_time": "2025-03-22T19:07:50.694Z"
   },
   {
    "duration": 15,
    "start_time": "2025-03-22T19:07:50.698Z"
   },
   {
    "duration": 4,
    "start_time": "2025-03-22T19:07:50.714Z"
   },
   {
    "duration": 14,
    "start_time": "2025-03-22T19:07:50.719Z"
   },
   {
    "duration": 4,
    "start_time": "2025-03-22T19:07:50.734Z"
   },
   {
    "duration": 50,
    "start_time": "2025-03-22T19:07:50.739Z"
   },
   {
    "duration": 9,
    "start_time": "2025-03-22T19:07:50.791Z"
   },
   {
    "duration": 5,
    "start_time": "2025-03-22T19:07:50.801Z"
   },
   {
    "duration": 11,
    "start_time": "2025-03-22T19:07:50.808Z"
   },
   {
    "duration": 24,
    "start_time": "2025-03-22T19:07:50.820Z"
   },
   {
    "duration": 36,
    "start_time": "2025-03-22T19:07:50.846Z"
   },
   {
    "duration": 4,
    "start_time": "2025-03-22T19:07:50.884Z"
   },
   {
    "duration": 11,
    "start_time": "2025-03-22T19:07:50.889Z"
   },
   {
    "duration": 6,
    "start_time": "2025-03-22T19:07:50.902Z"
   },
   {
    "duration": 6,
    "start_time": "2025-03-22T19:07:50.910Z"
   },
   {
    "duration": 17,
    "start_time": "2025-03-22T19:07:50.918Z"
   },
   {
    "duration": 12,
    "start_time": "2025-03-22T19:07:50.936Z"
   },
   {
    "duration": 26,
    "start_time": "2025-03-22T19:07:50.950Z"
   },
   {
    "duration": 18,
    "start_time": "2025-03-22T19:07:50.978Z"
   },
   {
    "duration": 10,
    "start_time": "2025-03-22T19:07:50.998Z"
   },
   {
    "duration": 101,
    "start_time": "2025-03-22T19:07:51.009Z"
   },
   {
    "duration": 515,
    "start_time": "2025-03-22T19:49:12.743Z"
   },
   {
    "duration": 21,
    "start_time": "2025-03-22T19:49:13.260Z"
   },
   {
    "duration": 14,
    "start_time": "2025-03-22T19:49:13.283Z"
   },
   {
    "duration": 10,
    "start_time": "2025-03-22T19:49:13.298Z"
   },
   {
    "duration": 34,
    "start_time": "2025-03-22T19:49:13.310Z"
   },
   {
    "duration": 4,
    "start_time": "2025-03-22T19:49:13.345Z"
   },
   {
    "duration": 8,
    "start_time": "2025-03-22T19:49:13.372Z"
   },
   {
    "duration": 4,
    "start_time": "2025-03-22T19:49:13.381Z"
   },
   {
    "duration": 8,
    "start_time": "2025-03-22T19:49:13.386Z"
   },
   {
    "duration": 4,
    "start_time": "2025-03-22T19:49:13.396Z"
   },
   {
    "duration": 34,
    "start_time": "2025-03-22T19:49:13.401Z"
   },
   {
    "duration": 40,
    "start_time": "2025-03-22T19:49:13.437Z"
   },
   {
    "duration": 9,
    "start_time": "2025-03-22T19:49:13.479Z"
   },
   {
    "duration": 12,
    "start_time": "2025-03-22T19:49:13.489Z"
   },
   {
    "duration": 19,
    "start_time": "2025-03-22T19:49:13.502Z"
   },
   {
    "duration": 15,
    "start_time": "2025-03-22T19:49:13.522Z"
   },
   {
    "duration": 3,
    "start_time": "2025-03-22T19:49:13.539Z"
   },
   {
    "duration": 35,
    "start_time": "2025-03-22T19:49:13.543Z"
   },
   {
    "duration": 6,
    "start_time": "2025-03-22T19:49:13.580Z"
   },
   {
    "duration": 4,
    "start_time": "2025-03-22T19:49:13.587Z"
   },
   {
    "duration": 8,
    "start_time": "2025-03-22T19:49:13.592Z"
   },
   {
    "duration": 82,
    "start_time": "2025-03-22T19:49:13.602Z"
   },
   {
    "duration": 0,
    "start_time": "2025-03-22T19:49:13.685Z"
   },
   {
    "duration": 0,
    "start_time": "2025-03-22T19:49:13.686Z"
   },
   {
    "duration": 0,
    "start_time": "2025-03-22T19:49:13.688Z"
   },
   {
    "duration": 0,
    "start_time": "2025-03-22T19:49:13.689Z"
   },
   {
    "duration": 491,
    "start_time": "2025-03-23T02:38:30.376Z"
   },
   {
    "duration": 19,
    "start_time": "2025-03-23T02:38:30.869Z"
   },
   {
    "duration": 31,
    "start_time": "2025-03-23T02:38:30.889Z"
   },
   {
    "duration": 12,
    "start_time": "2025-03-23T02:38:30.922Z"
   },
   {
    "duration": 42,
    "start_time": "2025-03-23T02:38:30.935Z"
   },
   {
    "duration": 3,
    "start_time": "2025-03-23T02:38:30.978Z"
   },
   {
    "duration": 39,
    "start_time": "2025-03-23T02:38:30.983Z"
   },
   {
    "duration": 25,
    "start_time": "2025-03-23T02:38:31.023Z"
   },
   {
    "duration": 18,
    "start_time": "2025-03-23T02:38:31.049Z"
   },
   {
    "duration": 21,
    "start_time": "2025-03-23T02:38:31.069Z"
   },
   {
    "duration": 49,
    "start_time": "2025-03-23T02:38:31.092Z"
   },
   {
    "duration": 9,
    "start_time": "2025-03-23T02:38:31.143Z"
   },
   {
    "duration": 26,
    "start_time": "2025-03-23T02:38:31.154Z"
   },
   {
    "duration": 35,
    "start_time": "2025-03-23T02:38:31.181Z"
   },
   {
    "duration": 37,
    "start_time": "2025-03-23T02:38:31.217Z"
   },
   {
    "duration": 17,
    "start_time": "2025-03-23T02:38:31.255Z"
   },
   {
    "duration": 20,
    "start_time": "2025-03-23T02:38:31.273Z"
   },
   {
    "duration": 13,
    "start_time": "2025-03-23T02:38:31.295Z"
   },
   {
    "duration": 6,
    "start_time": "2025-03-23T02:38:31.309Z"
   },
   {
    "duration": 15,
    "start_time": "2025-03-23T02:38:31.316Z"
   },
   {
    "duration": 12,
    "start_time": "2025-03-23T02:38:31.332Z"
   },
   {
    "duration": 78,
    "start_time": "2025-03-23T02:38:31.345Z"
   },
   {
    "duration": 0,
    "start_time": "2025-03-23T02:38:31.424Z"
   },
   {
    "duration": 0,
    "start_time": "2025-03-23T02:38:31.426Z"
   },
   {
    "duration": 0,
    "start_time": "2025-03-23T02:38:31.426Z"
   },
   {
    "duration": 0,
    "start_time": "2025-03-23T02:38:31.428Z"
   },
   {
    "duration": 68,
    "start_time": "2025-03-23T02:41:01.818Z"
   },
   {
    "duration": 11,
    "start_time": "2025-03-23T02:41:15.334Z"
   },
   {
    "duration": 13,
    "start_time": "2025-03-23T02:43:34.939Z"
   },
   {
    "duration": 436,
    "start_time": "2025-03-23T02:50:21.727Z"
   },
   {
    "duration": 21,
    "start_time": "2025-03-23T02:50:22.165Z"
   },
   {
    "duration": 15,
    "start_time": "2025-03-23T02:50:22.188Z"
   },
   {
    "duration": 11,
    "start_time": "2025-03-23T02:50:22.206Z"
   },
   {
    "duration": 50,
    "start_time": "2025-03-23T02:50:22.219Z"
   },
   {
    "duration": 3,
    "start_time": "2025-03-23T02:50:22.270Z"
   },
   {
    "duration": 9,
    "start_time": "2025-03-23T02:50:22.274Z"
   },
   {
    "duration": 3,
    "start_time": "2025-03-23T02:50:22.284Z"
   },
   {
    "duration": 6,
    "start_time": "2025-03-23T02:50:22.289Z"
   },
   {
    "duration": 4,
    "start_time": "2025-03-23T02:50:22.297Z"
   },
   {
    "duration": 33,
    "start_time": "2025-03-23T02:50:22.302Z"
   },
   {
    "duration": 38,
    "start_time": "2025-03-23T02:50:22.337Z"
   },
   {
    "duration": 3,
    "start_time": "2025-03-23T02:50:22.377Z"
   },
   {
    "duration": 14,
    "start_time": "2025-03-23T02:50:22.381Z"
   },
   {
    "duration": 23,
    "start_time": "2025-03-23T02:50:22.396Z"
   },
   {
    "duration": 18,
    "start_time": "2025-03-23T02:50:22.421Z"
   },
   {
    "duration": 3,
    "start_time": "2025-03-23T02:50:22.441Z"
   },
   {
    "duration": 10,
    "start_time": "2025-03-23T02:50:22.474Z"
   },
   {
    "duration": 44,
    "start_time": "2025-03-23T02:50:22.485Z"
   },
   {
    "duration": 3,
    "start_time": "2025-03-23T02:50:22.531Z"
   },
   {
    "duration": 9,
    "start_time": "2025-03-23T02:50:22.535Z"
   },
   {
    "duration": 67,
    "start_time": "2025-03-23T02:50:22.546Z"
   },
   {
    "duration": 0,
    "start_time": "2025-03-23T02:50:22.615Z"
   },
   {
    "duration": 0,
    "start_time": "2025-03-23T02:50:22.616Z"
   },
   {
    "duration": 0,
    "start_time": "2025-03-23T02:50:22.617Z"
   },
   {
    "duration": 0,
    "start_time": "2025-03-23T02:50:22.618Z"
   },
   {
    "duration": 10,
    "start_time": "2025-03-23T02:50:35.177Z"
   },
   {
    "duration": 12,
    "start_time": "2025-03-23T02:55:39.852Z"
   },
   {
    "duration": 17,
    "start_time": "2025-03-23T02:55:51.367Z"
   },
   {
    "duration": 462,
    "start_time": "2025-03-23T02:56:49.147Z"
   },
   {
    "duration": 20,
    "start_time": "2025-03-23T02:56:49.611Z"
   },
   {
    "duration": 15,
    "start_time": "2025-03-23T02:56:49.633Z"
   },
   {
    "duration": 27,
    "start_time": "2025-03-23T02:56:49.650Z"
   },
   {
    "duration": 36,
    "start_time": "2025-03-23T02:56:49.679Z"
   },
   {
    "duration": 3,
    "start_time": "2025-03-23T02:56:49.717Z"
   },
   {
    "duration": 8,
    "start_time": "2025-03-23T02:56:49.722Z"
   },
   {
    "duration": 5,
    "start_time": "2025-03-23T02:56:49.731Z"
   },
   {
    "duration": 36,
    "start_time": "2025-03-23T02:56:49.737Z"
   },
   {
    "duration": 5,
    "start_time": "2025-03-23T02:56:49.777Z"
   },
   {
    "duration": 36,
    "start_time": "2025-03-23T02:56:49.783Z"
   },
   {
    "duration": 11,
    "start_time": "2025-03-23T02:56:49.820Z"
   },
   {
    "duration": 4,
    "start_time": "2025-03-23T02:56:49.832Z"
   },
   {
    "duration": 39,
    "start_time": "2025-03-23T02:56:49.837Z"
   },
   {
    "duration": 19,
    "start_time": "2025-03-23T02:56:49.878Z"
   },
   {
    "duration": 17,
    "start_time": "2025-03-23T02:56:49.898Z"
   },
   {
    "duration": 4,
    "start_time": "2025-03-23T02:56:49.916Z"
   },
   {
    "duration": 11,
    "start_time": "2025-03-23T02:56:49.921Z"
   },
   {
    "duration": 7,
    "start_time": "2025-03-23T02:56:49.933Z"
   },
   {
    "duration": 33,
    "start_time": "2025-03-23T02:56:49.941Z"
   },
   {
    "duration": 8,
    "start_time": "2025-03-23T02:56:49.976Z"
   },
   {
    "duration": 11,
    "start_time": "2025-03-23T02:56:49.985Z"
   },
   {
    "duration": 8,
    "start_time": "2025-03-23T02:56:49.998Z"
   },
   {
    "duration": 17,
    "start_time": "2025-03-23T02:56:50.007Z"
   },
   {
    "duration": 10,
    "start_time": "2025-03-23T02:56:50.025Z"
   },
   {
    "duration": 37,
    "start_time": "2025-03-23T02:56:50.037Z"
   },
   {
    "duration": 69,
    "start_time": "2025-03-23T02:58:15.811Z"
   },
   {
    "duration": 11,
    "start_time": "2025-03-23T02:58:32.751Z"
   },
   {
    "duration": 1356,
    "start_time": "2025-03-23T02:59:23.063Z"
   },
   {
    "duration": 1302,
    "start_time": "2025-03-23T02:59:46.106Z"
   },
   {
    "duration": 13,
    "start_time": "2025-03-23T03:00:01.468Z"
   },
   {
    "duration": 11,
    "start_time": "2025-03-23T03:00:26.592Z"
   },
   {
    "duration": 436,
    "start_time": "2025-03-23T03:05:40.421Z"
   },
   {
    "duration": 20,
    "start_time": "2025-03-23T03:05:40.859Z"
   },
   {
    "duration": 15,
    "start_time": "2025-03-23T03:05:40.880Z"
   },
   {
    "duration": 10,
    "start_time": "2025-03-23T03:05:40.897Z"
   },
   {
    "duration": 34,
    "start_time": "2025-03-23T03:05:40.908Z"
   },
   {
    "duration": 3,
    "start_time": "2025-03-23T03:05:40.944Z"
   },
   {
    "duration": 31,
    "start_time": "2025-03-23T03:05:40.949Z"
   },
   {
    "duration": 4,
    "start_time": "2025-03-23T03:05:40.982Z"
   },
   {
    "duration": 7,
    "start_time": "2025-03-23T03:05:40.987Z"
   },
   {
    "duration": 4,
    "start_time": "2025-03-23T03:05:40.996Z"
   },
   {
    "duration": 36,
    "start_time": "2025-03-23T03:05:41.001Z"
   },
   {
    "duration": 39,
    "start_time": "2025-03-23T03:05:41.038Z"
   },
   {
    "duration": 21,
    "start_time": "2025-03-23T03:05:41.078Z"
   },
   {
    "duration": 13,
    "start_time": "2025-03-23T03:05:41.101Z"
   },
   {
    "duration": 26,
    "start_time": "2025-03-23T03:05:41.116Z"
   },
   {
    "duration": 16,
    "start_time": "2025-03-23T03:05:41.144Z"
   },
   {
    "duration": 4,
    "start_time": "2025-03-23T03:05:41.161Z"
   },
   {
    "duration": 22,
    "start_time": "2025-03-23T03:05:41.166Z"
   },
   {
    "duration": 5,
    "start_time": "2025-03-23T03:05:41.190Z"
   },
   {
    "duration": 3,
    "start_time": "2025-03-23T03:05:41.196Z"
   },
   {
    "duration": 8,
    "start_time": "2025-03-23T03:05:41.201Z"
   },
   {
    "duration": 1352,
    "start_time": "2025-03-23T03:05:41.210Z"
   },
   {
    "duration": 0,
    "start_time": "2025-03-23T03:05:42.564Z"
   },
   {
    "duration": 0,
    "start_time": "2025-03-23T03:05:42.565Z"
   },
   {
    "duration": 0,
    "start_time": "2025-03-23T03:05:42.566Z"
   },
   {
    "duration": 0,
    "start_time": "2025-03-23T03:05:42.567Z"
   },
   {
    "duration": 10,
    "start_time": "2025-03-23T03:07:17.854Z"
   },
   {
    "duration": 1478,
    "start_time": "2025-03-23T03:07:40.015Z"
   },
   {
    "duration": 10,
    "start_time": "2025-03-23T03:08:25.141Z"
   },
   {
    "duration": 490,
    "start_time": "2025-03-23T03:13:39.942Z"
   },
   {
    "duration": 20,
    "start_time": "2025-03-23T03:13:40.434Z"
   },
   {
    "duration": 25,
    "start_time": "2025-03-23T03:13:40.455Z"
   },
   {
    "duration": 10,
    "start_time": "2025-03-23T03:13:40.482Z"
   },
   {
    "duration": 34,
    "start_time": "2025-03-23T03:13:40.493Z"
   },
   {
    "duration": 3,
    "start_time": "2025-03-23T03:13:40.529Z"
   },
   {
    "duration": 9,
    "start_time": "2025-03-23T03:13:40.533Z"
   },
   {
    "duration": 3,
    "start_time": "2025-03-23T03:13:40.543Z"
   },
   {
    "duration": 40,
    "start_time": "2025-03-23T03:13:40.548Z"
   },
   {
    "duration": 4,
    "start_time": "2025-03-23T03:13:40.590Z"
   },
   {
    "duration": 34,
    "start_time": "2025-03-23T03:13:40.596Z"
   },
   {
    "duration": 10,
    "start_time": "2025-03-23T03:13:40.631Z"
   },
   {
    "duration": 3,
    "start_time": "2025-03-23T03:13:40.642Z"
   },
   {
    "duration": 28,
    "start_time": "2025-03-23T03:13:40.647Z"
   },
   {
    "duration": 18,
    "start_time": "2025-03-23T03:13:40.676Z"
   },
   {
    "duration": 15,
    "start_time": "2025-03-23T03:13:40.696Z"
   },
   {
    "duration": 2,
    "start_time": "2025-03-23T03:13:40.713Z"
   },
   {
    "duration": 15,
    "start_time": "2025-03-23T03:13:40.717Z"
   },
   {
    "duration": 7,
    "start_time": "2025-03-23T03:13:40.734Z"
   },
   {
    "duration": 32,
    "start_time": "2025-03-23T03:13:40.742Z"
   },
   {
    "duration": 24,
    "start_time": "2025-03-23T03:13:40.775Z"
   },
   {
    "duration": 1280,
    "start_time": "2025-03-23T03:13:40.800Z"
   },
   {
    "duration": 0,
    "start_time": "2025-03-23T03:13:42.082Z"
   },
   {
    "duration": 0,
    "start_time": "2025-03-23T03:13:42.083Z"
   },
   {
    "duration": 0,
    "start_time": "2025-03-23T03:13:42.085Z"
   },
   {
    "duration": 0,
    "start_time": "2025-03-23T03:13:42.087Z"
   },
   {
    "duration": 94,
    "start_time": "2025-03-23T03:14:39.360Z"
   },
   {
    "duration": 115,
    "start_time": "2025-03-23T03:14:43.061Z"
   },
   {
    "duration": 83,
    "start_time": "2025-03-23T03:15:15.466Z"
   },
   {
    "duration": 14,
    "start_time": "2025-03-23T03:15:24.266Z"
   },
   {
    "duration": 12,
    "start_time": "2025-03-23T03:15:50.736Z"
   },
   {
    "duration": 499,
    "start_time": "2025-03-23T03:16:07.154Z"
   },
   {
    "duration": 21,
    "start_time": "2025-03-23T03:16:07.655Z"
   },
   {
    "duration": 19,
    "start_time": "2025-03-23T03:16:07.678Z"
   },
   {
    "duration": 10,
    "start_time": "2025-03-23T03:16:07.699Z"
   },
   {
    "duration": 50,
    "start_time": "2025-03-23T03:16:07.710Z"
   },
   {
    "duration": 3,
    "start_time": "2025-03-23T03:16:07.762Z"
   },
   {
    "duration": 7,
    "start_time": "2025-03-23T03:16:07.773Z"
   },
   {
    "duration": 6,
    "start_time": "2025-03-23T03:16:07.781Z"
   },
   {
    "duration": 11,
    "start_time": "2025-03-23T03:16:07.788Z"
   },
   {
    "duration": 4,
    "start_time": "2025-03-23T03:16:07.801Z"
   },
   {
    "duration": 36,
    "start_time": "2025-03-23T03:16:07.806Z"
   },
   {
    "duration": 35,
    "start_time": "2025-03-23T03:16:07.844Z"
   },
   {
    "duration": 8,
    "start_time": "2025-03-23T03:16:07.880Z"
   },
   {
    "duration": 11,
    "start_time": "2025-03-23T03:16:07.890Z"
   },
   {
    "duration": 32,
    "start_time": "2025-03-23T03:16:07.902Z"
   },
   {
    "duration": 16,
    "start_time": "2025-03-23T03:16:07.936Z"
   },
   {
    "duration": 4,
    "start_time": "2025-03-23T03:16:07.953Z"
   },
   {
    "duration": 22,
    "start_time": "2025-03-23T03:16:07.958Z"
   },
   {
    "duration": 5,
    "start_time": "2025-03-23T03:16:07.982Z"
   },
   {
    "duration": 26,
    "start_time": "2025-03-23T03:16:07.988Z"
   },
   {
    "duration": 29,
    "start_time": "2025-03-23T03:16:08.016Z"
   },
   {
    "duration": 11,
    "start_time": "2025-03-23T03:16:08.047Z"
   },
   {
    "duration": 15,
    "start_time": "2025-03-23T03:16:08.059Z"
   },
   {
    "duration": 17,
    "start_time": "2025-03-23T03:16:08.076Z"
   },
   {
    "duration": 15,
    "start_time": "2025-03-23T03:16:08.095Z"
   },
   {
    "duration": 5,
    "start_time": "2025-03-23T03:16:08.112Z"
   },
   {
    "duration": 12,
    "start_time": "2025-03-23T03:17:03.042Z"
   },
   {
    "duration": 11,
    "start_time": "2025-03-23T03:17:57.322Z"
   },
   {
    "duration": 68,
    "start_time": "2025-03-23T03:18:31.174Z"
   },
   {
    "duration": 10,
    "start_time": "2025-03-23T03:19:01.787Z"
   },
   {
    "duration": 13,
    "start_time": "2025-03-23T03:19:44.585Z"
   },
   {
    "duration": 15,
    "start_time": "2025-03-23T03:20:08.896Z"
   },
   {
    "duration": 26,
    "start_time": "2025-03-23T03:20:44.111Z"
   },
   {
    "duration": 24,
    "start_time": "2025-03-23T03:21:13.483Z"
   },
   {
    "duration": 23,
    "start_time": "2025-03-23T03:21:29.176Z"
   },
   {
    "duration": 19,
    "start_time": "2025-03-23T03:21:54.049Z"
   },
   {
    "duration": 19,
    "start_time": "2025-03-23T03:22:22.363Z"
   },
   {
    "duration": 14,
    "start_time": "2025-03-23T03:22:32.030Z"
   },
   {
    "duration": 5,
    "start_time": "2025-03-23T03:26:31.616Z"
   },
   {
    "duration": 461,
    "start_time": "2025-03-23T06:32:31.007Z"
   },
   {
    "duration": 19,
    "start_time": "2025-03-23T06:32:31.470Z"
   },
   {
    "duration": 20,
    "start_time": "2025-03-23T06:32:31.491Z"
   },
   {
    "duration": 11,
    "start_time": "2025-03-23T06:32:31.512Z"
   },
   {
    "duration": 40,
    "start_time": "2025-03-23T06:32:31.525Z"
   },
   {
    "duration": 2,
    "start_time": "2025-03-23T06:32:31.573Z"
   },
   {
    "duration": 27,
    "start_time": "2025-03-23T06:32:31.577Z"
   },
   {
    "duration": 10,
    "start_time": "2025-03-23T06:32:31.605Z"
   },
   {
    "duration": 16,
    "start_time": "2025-03-23T06:32:31.616Z"
   },
   {
    "duration": 3,
    "start_time": "2025-03-23T06:32:31.636Z"
   },
   {
    "duration": 37,
    "start_time": "2025-03-23T06:32:31.641Z"
   },
   {
    "duration": 10,
    "start_time": "2025-03-23T06:32:31.679Z"
   },
   {
    "duration": 21,
    "start_time": "2025-03-23T06:32:31.691Z"
   },
   {
    "duration": 12,
    "start_time": "2025-03-23T06:32:31.714Z"
   },
   {
    "duration": 20,
    "start_time": "2025-03-23T06:32:31.728Z"
   },
   {
    "duration": 24,
    "start_time": "2025-03-23T06:32:31.750Z"
   },
   {
    "duration": 3,
    "start_time": "2025-03-23T06:32:31.776Z"
   },
   {
    "duration": 12,
    "start_time": "2025-03-23T06:32:31.781Z"
   },
   {
    "duration": 7,
    "start_time": "2025-03-23T06:32:31.794Z"
   },
   {
    "duration": 4,
    "start_time": "2025-03-23T06:32:31.802Z"
   },
   {
    "duration": 24,
    "start_time": "2025-03-23T06:32:31.807Z"
   },
   {
    "duration": 11,
    "start_time": "2025-03-23T06:32:31.833Z"
   },
   {
    "duration": 13,
    "start_time": "2025-03-23T06:32:31.845Z"
   },
   {
    "duration": 33,
    "start_time": "2025-03-23T06:32:31.873Z"
   },
   {
    "duration": 85,
    "start_time": "2025-03-23T06:41:27.358Z"
   },
   {
    "duration": 514,
    "start_time": "2025-03-23T06:42:22.566Z"
   },
   {
    "duration": 20,
    "start_time": "2025-03-23T06:42:23.082Z"
   },
   {
    "duration": 15,
    "start_time": "2025-03-23T06:42:23.104Z"
   },
   {
    "duration": 9,
    "start_time": "2025-03-23T06:42:23.121Z"
   },
   {
    "duration": 53,
    "start_time": "2025-03-23T06:42:23.132Z"
   },
   {
    "duration": 3,
    "start_time": "2025-03-23T06:42:23.187Z"
   },
   {
    "duration": 11,
    "start_time": "2025-03-23T06:42:23.192Z"
   },
   {
    "duration": 18,
    "start_time": "2025-03-23T06:42:23.204Z"
   },
   {
    "duration": 8,
    "start_time": "2025-03-23T06:42:23.224Z"
   },
   {
    "duration": 4,
    "start_time": "2025-03-23T06:42:23.234Z"
   },
   {
    "duration": 46,
    "start_time": "2025-03-23T06:42:23.240Z"
   },
   {
    "duration": 10,
    "start_time": "2025-03-23T06:42:23.288Z"
   },
   {
    "duration": 3,
    "start_time": "2025-03-23T06:42:23.299Z"
   },
   {
    "duration": 12,
    "start_time": "2025-03-23T06:42:23.303Z"
   },
   {
    "duration": 23,
    "start_time": "2025-03-23T06:42:23.317Z"
   },
   {
    "duration": 36,
    "start_time": "2025-03-23T06:42:23.341Z"
   },
   {
    "duration": 3,
    "start_time": "2025-03-23T06:42:23.379Z"
   },
   {
    "duration": 11,
    "start_time": "2025-03-23T06:42:23.383Z"
   },
   {
    "duration": 5,
    "start_time": "2025-03-23T06:42:23.395Z"
   },
   {
    "duration": 3,
    "start_time": "2025-03-23T06:42:23.402Z"
   },
   {
    "duration": 10,
    "start_time": "2025-03-23T06:42:23.406Z"
   },
   {
    "duration": 11,
    "start_time": "2025-03-23T06:42:23.417Z"
   },
   {
    "duration": 13,
    "start_time": "2025-03-23T06:42:23.429Z"
   },
   {
    "duration": 22,
    "start_time": "2025-03-23T06:42:23.474Z"
   },
   {
    "duration": 14,
    "start_time": "2025-03-23T06:42:23.498Z"
   },
   {
    "duration": 5,
    "start_time": "2025-03-23T06:42:23.514Z"
   },
   {
    "duration": 1234,
    "start_time": "2025-03-23T07:19:15.779Z"
   },
   {
    "duration": 480,
    "start_time": "2025-03-23T08:12:40.781Z"
   },
   {
    "duration": 21,
    "start_time": "2025-03-23T08:12:41.263Z"
   },
   {
    "duration": 15,
    "start_time": "2025-03-23T08:12:41.286Z"
   },
   {
    "duration": 10,
    "start_time": "2025-03-23T08:12:41.302Z"
   },
   {
    "duration": 56,
    "start_time": "2025-03-23T08:12:41.314Z"
   },
   {
    "duration": 3,
    "start_time": "2025-03-23T08:12:41.372Z"
   },
   {
    "duration": 8,
    "start_time": "2025-03-23T08:12:41.377Z"
   },
   {
    "duration": 4,
    "start_time": "2025-03-23T08:12:41.387Z"
   },
   {
    "duration": 9,
    "start_time": "2025-03-23T08:12:41.392Z"
   },
   {
    "duration": 5,
    "start_time": "2025-03-23T08:12:41.403Z"
   },
   {
    "duration": 79,
    "start_time": "2025-03-23T08:12:41.410Z"
   },
   {
    "duration": 12,
    "start_time": "2025-03-23T08:12:41.491Z"
   },
   {
    "duration": 4,
    "start_time": "2025-03-23T08:12:41.505Z"
   },
   {
    "duration": 12,
    "start_time": "2025-03-23T08:12:41.511Z"
   },
   {
    "duration": 47,
    "start_time": "2025-03-23T08:12:41.525Z"
   },
   {
    "duration": 17,
    "start_time": "2025-03-23T08:12:41.573Z"
   },
   {
    "duration": 3,
    "start_time": "2025-03-23T08:12:41.592Z"
   },
   {
    "duration": 14,
    "start_time": "2025-03-23T08:12:41.596Z"
   },
   {
    "duration": 6,
    "start_time": "2025-03-23T08:12:41.612Z"
   },
   {
    "duration": 3,
    "start_time": "2025-03-23T08:12:41.620Z"
   },
   {
    "duration": 41,
    "start_time": "2025-03-23T08:12:41.624Z"
   },
   {
    "duration": 13,
    "start_time": "2025-03-23T08:12:41.667Z"
   },
   {
    "duration": 14,
    "start_time": "2025-03-23T08:12:41.681Z"
   },
   {
    "duration": 19,
    "start_time": "2025-03-23T08:12:41.696Z"
   },
   {
    "duration": 1291,
    "start_time": "2025-03-23T08:12:41.717Z"
   },
   {
    "duration": 16,
    "start_time": "2025-03-23T08:12:43.009Z"
   },
   {
    "duration": 22,
    "start_time": "2025-03-23T08:12:49.022Z"
   },
   {
    "duration": 99,
    "start_time": "2025-03-23T08:18:54.596Z"
   },
   {
    "duration": 15,
    "start_time": "2025-03-23T08:18:58.676Z"
   },
   {
    "duration": 468,
    "start_time": "2025-03-23T08:52:07.187Z"
   },
   {
    "duration": 19,
    "start_time": "2025-03-23T08:52:07.657Z"
   },
   {
    "duration": 14,
    "start_time": "2025-03-23T08:52:07.678Z"
   },
   {
    "duration": 9,
    "start_time": "2025-03-23T08:52:07.694Z"
   },
   {
    "duration": 34,
    "start_time": "2025-03-23T08:52:07.704Z"
   },
   {
    "duration": 29,
    "start_time": "2025-03-23T08:52:07.739Z"
   },
   {
    "duration": 9,
    "start_time": "2025-03-23T08:52:07.769Z"
   },
   {
    "duration": 3,
    "start_time": "2025-03-23T08:52:07.780Z"
   },
   {
    "duration": 10,
    "start_time": "2025-03-23T08:52:07.785Z"
   },
   {
    "duration": 5,
    "start_time": "2025-03-23T08:52:07.797Z"
   },
   {
    "duration": 34,
    "start_time": "2025-03-23T08:52:07.803Z"
   },
   {
    "duration": 35,
    "start_time": "2025-03-23T08:52:07.838Z"
   },
   {
    "duration": 3,
    "start_time": "2025-03-23T08:52:07.874Z"
   },
   {
    "duration": 11,
    "start_time": "2025-03-23T08:52:07.879Z"
   },
   {
    "duration": 18,
    "start_time": "2025-03-23T08:52:07.891Z"
   },
   {
    "duration": 16,
    "start_time": "2025-03-23T08:52:07.911Z"
   },
   {
    "duration": 3,
    "start_time": "2025-03-23T08:52:07.928Z"
   },
   {
    "duration": 42,
    "start_time": "2025-03-23T08:52:07.933Z"
   },
   {
    "duration": 6,
    "start_time": "2025-03-23T08:52:07.976Z"
   },
   {
    "duration": 3,
    "start_time": "2025-03-23T08:52:07.983Z"
   },
   {
    "duration": 11,
    "start_time": "2025-03-23T08:52:07.988Z"
   },
   {
    "duration": 13,
    "start_time": "2025-03-23T08:52:08.000Z"
   },
   {
    "duration": 12,
    "start_time": "2025-03-23T08:52:08.015Z"
   },
   {
    "duration": 49,
    "start_time": "2025-03-23T08:52:08.029Z"
   },
   {
    "duration": 1220,
    "start_time": "2025-03-23T08:52:08.079Z"
   },
   {
    "duration": 15,
    "start_time": "2025-03-23T08:52:09.301Z"
   }
  ],
  "colab": {
   "name": "dpp_template_part2.ipynb",
   "provenance": []
  },
  "kernelspec": {
   "display_name": "Python 3 (ipykernel)",
   "language": "python",
   "name": "python3"
  },
  "language_info": {
   "codemirror_mode": {
    "name": "ipython",
    "version": 3
   },
   "file_extension": ".py",
   "mimetype": "text/x-python",
   "name": "python",
   "nbconvert_exporter": "python",
   "pygments_lexer": "ipython3",
   "version": "3.9.5"
  },
  "toc": {
   "base_numbering": 1,
   "nav_menu": {},
   "number_sections": true,
   "sideBar": true,
   "skip_h1_title": true,
   "title_cell": "Table of Contents",
   "title_sidebar": "Contents",
   "toc_cell": false,
   "toc_position": {},
   "toc_section_display": true,
   "toc_window_display": false
  }
 },
 "nbformat": 4,
 "nbformat_minor": 5
}
